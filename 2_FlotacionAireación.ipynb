{
  "nbformat": 4,
  "nbformat_minor": 0,
  "metadata": {
    "colab": {
      "provenance": [],
      "authorship_tag": "ABX9TyPqkXjaLUJ31J7VSFg2Wydr",
      "include_colab_link": true
    },
    "kernelspec": {
      "name": "python3",
      "display_name": "Python 3"
    },
    "language_info": {
      "name": "python"
    }
  },
  "cells": [
    {
      "cell_type": "markdown",
      "metadata": {
        "id": "view-in-github",
        "colab_type": "text"
      },
      "source": [
        "<a href=\"https://colab.research.google.com/github/valizcanos/ProcesosUnitarios/blob/main/2_FlotacionAireaci%C3%B3n.ipynb\" target=\"_parent\"><img src=\"https://colab.research.google.com/assets/colab-badge.svg\" alt=\"Open In Colab\"/></a>"
      ]
    },
    {
      "cell_type": "code",
      "execution_count": null,
      "metadata": {
        "id": "IrkSCow4rCFk"
      },
      "outputs": [],
      "source": [
        "import pandas as pd\n",
        "import numpy as np\n",
        "from matplotlib import pyplot as plt"
      ]
    },
    {
      "cell_type": "markdown",
      "source": [
        "# **FLOTACIÓN**"
      ],
      "metadata": {
        "id": "ubwypFzr5k-3"
      }
    },
    {
      "cell_type": "markdown",
      "source": [
        "## Flotación sin recirculación\n",
        "$\\frac {A}{S} = \\frac{1.3*So_{a}*(f*p-1)}{S_a}$"
      ],
      "metadata": {
        "id": "ULKwAfim1HXg"
      }
    },
    {
      "cell_type": "markdown",
      "source": [
        "## Flotación con recirculación\n",
        "$\\frac {A}{S} = \\frac{1.3*So_{a}*(f*p-1)*R}{S_a * Q}$"
      ],
      "metadata": {
        "id": "T-sDogir1pB4"
      }
    },
    {
      "cell_type": "markdown",
      "source": [
        "## Presión\n",
        "\n",
        "$P = {\\frac{p_{cal}+101.325}{101.325}}$"
      ],
      "metadata": {
        "id": "ibsgjak5116O"
      }
    },
    {
      "cell_type": "markdown",
      "source": [
        "## Unidades\n",
        "\n",
        "$\\frac{A}{S}:\\frac{ml}{mg}$ <br>\n",
        "$So_{a}: \\frac{ml}{l}$ <br>\n",
        "$f: adimensional$ <br>\n",
        "$P: atm$<br>\n",
        "$P_{cal}: kPa$<br>\n",
        "$R: \\frac{m^3}{d}$<br>\n",
        "$Q: \\frac{m^3}{d}$<br>\n",
        "$S_a: \\frac{mg}{l}$"
      ],
      "metadata": {
        "id": "hJ8PqUoM2GPl"
      }
    },
    {
      "cell_type": "markdown",
      "source": [
        "**A/S**: relación volumen de aire y masa del sólido, mlaire / mgsólido. Rango: 0.005 – 0.06. <br>\n",
        "**Soa**: solubilidad del aire, ml/l <br>\n",
        "**f**: fracción de aire disuelto a presión P, usalmente 0.5 <br>\n",
        "**P**: presión, atm <br>\n",
        "**Sa**: sólidos suspendidos en el afluente, mg/l <br>\n",
        "**R**: recirculación presurizada, m³/d <br>\n",
        "**Q**: flujo de mezcla, m³/d"
      ],
      "metadata": {
        "id": "qBYrwNGC3KTt"
      }
    },
    {
      "cell_type": "code",
      "source": [
        "Solubilidad = {\"Temp\":[0,10,20,30],\"Sol\":[29.2,22.8,18.7,15.7]}\n",
        "Solubilidad = pd.DataFrame(Solubilidad)\n",
        "Solubilidad = Solubilidad.set_index(Solubilidad[\"Temp\"])\n",
        "Solubilidad"
      ],
      "metadata": {
        "colab": {
          "base_uri": "https://localhost:8080/",
          "height": 206
        },
        "id": "y-lB4juN1Fpp",
        "outputId": "e423a0fb-65ed-4872-97ea-977113f67e2f"
      },
      "execution_count": null,
      "outputs": [
        {
          "output_type": "execute_result",
          "data": {
            "text/plain": [
              "      Temp   Sol\n",
              "Temp            \n",
              "0        0  29.2\n",
              "10      10  22.8\n",
              "20      20  18.7\n",
              "30      30  15.7"
            ],
            "text/html": [
              "\n",
              "  <div id=\"df-01b8c84c-6c3d-4e3d-8f8c-1dd0560093b1\">\n",
              "    <div class=\"colab-df-container\">\n",
              "      <div>\n",
              "<style scoped>\n",
              "    .dataframe tbody tr th:only-of-type {\n",
              "        vertical-align: middle;\n",
              "    }\n",
              "\n",
              "    .dataframe tbody tr th {\n",
              "        vertical-align: top;\n",
              "    }\n",
              "\n",
              "    .dataframe thead th {\n",
              "        text-align: right;\n",
              "    }\n",
              "</style>\n",
              "<table border=\"1\" class=\"dataframe\">\n",
              "  <thead>\n",
              "    <tr style=\"text-align: right;\">\n",
              "      <th></th>\n",
              "      <th>Temp</th>\n",
              "      <th>Sol</th>\n",
              "    </tr>\n",
              "    <tr>\n",
              "      <th>Temp</th>\n",
              "      <th></th>\n",
              "      <th></th>\n",
              "    </tr>\n",
              "  </thead>\n",
              "  <tbody>\n",
              "    <tr>\n",
              "      <th>0</th>\n",
              "      <td>0</td>\n",
              "      <td>29.2</td>\n",
              "    </tr>\n",
              "    <tr>\n",
              "      <th>10</th>\n",
              "      <td>10</td>\n",
              "      <td>22.8</td>\n",
              "    </tr>\n",
              "    <tr>\n",
              "      <th>20</th>\n",
              "      <td>20</td>\n",
              "      <td>18.7</td>\n",
              "    </tr>\n",
              "    <tr>\n",
              "      <th>30</th>\n",
              "      <td>30</td>\n",
              "      <td>15.7</td>\n",
              "    </tr>\n",
              "  </tbody>\n",
              "</table>\n",
              "</div>\n",
              "      <button class=\"colab-df-convert\" onclick=\"convertToInteractive('df-01b8c84c-6c3d-4e3d-8f8c-1dd0560093b1')\"\n",
              "              title=\"Convert this dataframe to an interactive table.\"\n",
              "              style=\"display:none;\">\n",
              "        \n",
              "  <svg xmlns=\"http://www.w3.org/2000/svg\" height=\"24px\"viewBox=\"0 0 24 24\"\n",
              "       width=\"24px\">\n",
              "    <path d=\"M0 0h24v24H0V0z\" fill=\"none\"/>\n",
              "    <path d=\"M18.56 5.44l.94 2.06.94-2.06 2.06-.94-2.06-.94-.94-2.06-.94 2.06-2.06.94zm-11 1L8.5 8.5l.94-2.06 2.06-.94-2.06-.94L8.5 2.5l-.94 2.06-2.06.94zm10 10l.94 2.06.94-2.06 2.06-.94-2.06-.94-.94-2.06-.94 2.06-2.06.94z\"/><path d=\"M17.41 7.96l-1.37-1.37c-.4-.4-.92-.59-1.43-.59-.52 0-1.04.2-1.43.59L10.3 9.45l-7.72 7.72c-.78.78-.78 2.05 0 2.83L4 21.41c.39.39.9.59 1.41.59.51 0 1.02-.2 1.41-.59l7.78-7.78 2.81-2.81c.8-.78.8-2.07 0-2.86zM5.41 20L4 18.59l7.72-7.72 1.47 1.35L5.41 20z\"/>\n",
              "  </svg>\n",
              "      </button>\n",
              "      \n",
              "  <style>\n",
              "    .colab-df-container {\n",
              "      display:flex;\n",
              "      flex-wrap:wrap;\n",
              "      gap: 12px;\n",
              "    }\n",
              "\n",
              "    .colab-df-convert {\n",
              "      background-color: #E8F0FE;\n",
              "      border: none;\n",
              "      border-radius: 50%;\n",
              "      cursor: pointer;\n",
              "      display: none;\n",
              "      fill: #1967D2;\n",
              "      height: 32px;\n",
              "      padding: 0 0 0 0;\n",
              "      width: 32px;\n",
              "    }\n",
              "\n",
              "    .colab-df-convert:hover {\n",
              "      background-color: #E2EBFA;\n",
              "      box-shadow: 0px 1px 2px rgba(60, 64, 67, 0.3), 0px 1px 3px 1px rgba(60, 64, 67, 0.15);\n",
              "      fill: #174EA6;\n",
              "    }\n",
              "\n",
              "    [theme=dark] .colab-df-convert {\n",
              "      background-color: #3B4455;\n",
              "      fill: #D2E3FC;\n",
              "    }\n",
              "\n",
              "    [theme=dark] .colab-df-convert:hover {\n",
              "      background-color: #434B5C;\n",
              "      box-shadow: 0px 1px 3px 1px rgba(0, 0, 0, 0.15);\n",
              "      filter: drop-shadow(0px 1px 2px rgba(0, 0, 0, 0.3));\n",
              "      fill: #FFFFFF;\n",
              "    }\n",
              "  </style>\n",
              "\n",
              "      <script>\n",
              "        const buttonEl =\n",
              "          document.querySelector('#df-01b8c84c-6c3d-4e3d-8f8c-1dd0560093b1 button.colab-df-convert');\n",
              "        buttonEl.style.display =\n",
              "          google.colab.kernel.accessAllowed ? 'block' : 'none';\n",
              "\n",
              "        async function convertToInteractive(key) {\n",
              "          const element = document.querySelector('#df-01b8c84c-6c3d-4e3d-8f8c-1dd0560093b1');\n",
              "          const dataTable =\n",
              "            await google.colab.kernel.invokeFunction('convertToInteractive',\n",
              "                                                     [key], {});\n",
              "          if (!dataTable) return;\n",
              "\n",
              "          const docLinkHtml = 'Like what you see? Visit the ' +\n",
              "            '<a target=\"_blank\" href=https://colab.research.google.com/notebooks/data_table.ipynb>data table notebook</a>'\n",
              "            + ' to learn more about interactive tables.';\n",
              "          element.innerHTML = '';\n",
              "          dataTable['output_type'] = 'display_data';\n",
              "          await google.colab.output.renderOutput(dataTable, element);\n",
              "          const docLink = document.createElement('div');\n",
              "          docLink.innerHTML = docLinkHtml;\n",
              "          element.appendChild(docLink);\n",
              "        }\n",
              "      </script>\n",
              "    </div>\n",
              "  </div>\n",
              "  "
            ]
          },
          "metadata": {},
          "execution_count": 2
        }
      ]
    },
    {
      "cell_type": "markdown",
      "source": [
        "### FLotación a diferentes presiones y solubilidades"
      ],
      "metadata": {
        "id": "NFa5Cl2z6fTz"
      }
    },
    {
      "cell_type": "code",
      "source": [
        "Presiones = np.linspace(0.1,3.5,10)"
      ],
      "metadata": {
        "id": "J8r33_cz6kWq"
      },
      "execution_count": null,
      "outputs": []
    },
    {
      "cell_type": "code",
      "source": [
        "def FlotacionSinR(Sol,Pres,SS):\n",
        "  for i in range(4):\n",
        "    AS = (1.3 * Sol.iloc[i,1]*(0.5*Pres-1))/SS\n",
        "    plt.plot(Pres, AS, label=Sol.iloc[i,1])\n",
        "    plt.xlabel(\"Presión, atm\")\n",
        "    plt.ylabel(\"Relación A/S, ${ml}/{mg}$\")\n",
        "    plt.title(\"FLotación a diferentes presiones y solubilidades\")\n",
        "    plt.legend(title=\"Solubilidad, $So_a$\")"
      ],
      "metadata": {
        "id": "gz8auD-B7Q63"
      },
      "execution_count": null,
      "outputs": []
    },
    {
      "cell_type": "code",
      "source": [
        "FlotacionSinR(Solubilidad,Presiones, 1500)"
      ],
      "metadata": {
        "colab": {
          "base_uri": "https://localhost:8080/",
          "height": 295
        },
        "id": "DkgcCwCi9rai",
        "outputId": "bc29acc2-ccee-46c4-a9fa-fe4db4ab741e"
      },
      "execution_count": null,
      "outputs": [
        {
          "output_type": "display_data",
          "data": {
            "text/plain": [
              "<Figure size 432x288 with 1 Axes>"
            ],
            "image/png": "[encoded data removed]"
          },
          "metadata": {
            "needs_background": "light"
          }
        }
      ]
    },
    {
      "cell_type": "markdown",
      "source": [],
      "metadata": {
        "id": "3Ofcyk7Seire"
      }
    },
    {
      "cell_type": "markdown",
      "source": [],
      "metadata": {
        "id": "g73rJEaneiuw"
      }
    },
    {
      "cell_type": "markdown",
      "source": [
        "### FLOTACION A DIFERENTES COINCENTRACIONES DE SOLIDOS Y SOLUBILIDADES"
      ],
      "metadata": {
        "id": "Wxt5DMwHeiwo"
      }
    },
    {
      "cell_type": "code",
      "source": [],
      "metadata": {
        "id": "xEWH7QYceurj"
      },
      "execution_count": null,
      "outputs": []
    },
    {
      "cell_type": "code",
      "source": [],
      "metadata": {
        "id": "F_u9Xuikeutb"
      },
      "execution_count": null,
      "outputs": []
    }
  ]
}