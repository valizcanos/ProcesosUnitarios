{
 "cells": [
  {
   "cell_type": "code",
   "execution_count": 1,
   "metadata": {},
   "outputs": [],
   "source": [
    "import numpy as np\n",
    "import pandas as pd\n",
    "import matplotlib.pyplot as plt"
   ]
  },
  {
   "cell_type": "markdown",
   "metadata": {},
   "source": [
    "# Taller"
   ]
  },
  {
   "cell_type": "markdown",
   "metadata": {},
   "source": [
    "## 1. "
   ]
  },
  {
   "cell_type": "markdown",
   "metadata": {},
   "source": [
    "La adsorción de fenol por carbón activado granular. El fenol es un compuesto orgánico que puede contaminar las aguas residuales industriales y causar problemas ambientales y de salud. El carbón activado granular es un material poroso que puede adsorber el fenol y eliminarlo del agua. La isoterma de Freundlich para este sistema se puede expresar como:"
   ]
  },
  {
   "cell_type": "markdown",
   "metadata": {},
   "source": [
    "$\n",
    "q_e =0.104C^{0.303}\n",
    "$"
   ]
  },
  {
   "cell_type": "markdown",
   "metadata": {},
   "source": [
    "Tenga en cuenta que $q_e$ esta en unidades de $\\frac{mg}{g}$. Si la $C_0$ es de 60 $\\frac{mg}{L}$ que masa de de adsorbente requerirá una PTAR para eliminar el 90% del contaminante? El caudal de ingreso es de 130 $\\frac{L}{s}$ y el tiempo de retención del filtro es de 1 hora."
   ]
  },
  {
   "cell_type": "markdown",
   "metadata": {},
   "source": [
    "## 2."
   ]
  },
  {
   "cell_type": "markdown",
   "metadata": {},
   "source": [
    "La adsorción de plomo por cáscara de naranja modificada. El plomo es un metal pesado que puede contaminar las aguas superficiales y subterráneas y causar efectos tóxicos en los seres vivos. La cáscara de naranja modificada es un material biodegradable que se obtiene al tratar la cáscara de naranja con ácido cítrico y que puede adsorber el plomo y removerlo del agua. La isoterma de Freundlich para este sistema se puede expresar como:"
   ]
  },
  {
   "cell_type": "markdown",
   "metadata": {},
   "source": [
    "$\n",
    "q_e =0.028C^{0.497}\n",
    "$"
   ]
  },
  {
   "cell_type": "markdown",
   "metadata": {},
   "source": [
    "Si la $C_0$ es de 1 $\\frac{mg}{L}$ que masa de de adsorbente requerirá una PTAR para eliminar el 90% del plomo? El caudal de ingreso es de 12 $\\frac{L}{s}$ y el tiempo de retención del filtro es de 1 hora. Consulte la masa promedio de una naranja y estime la cantidad de naranjas requeridas para lograr dicha remoción."
   ]
  },
  {
   "cell_type": "markdown",
   "metadata": {},
   "source": [
    "## 3."
   ]
  },
  {
   "cell_type": "markdown",
   "metadata": {},
   "source": [
    "La adsorción de azul de metileno por cáscara de coco activada. El azul de metileno es un colorante que se usa en diversas industrias y que puede teñir las aguas residuales y afectar la calidad del agua. La cáscara de coco activada es un material que se obtiene al carbonizar y activar térmicamente la cáscara de coco y que puede adsorber el azul de metileno y decolorar el agua. La isoterma de Freundlich para este sistema se puede expresar como:"
   ]
  },
  {
   "cell_type": "markdown",
   "metadata": {},
   "source": [
    "$\n",
    "q_e =0.015C^{0.714}\n",
    "$"
   ]
  },
  {
   "cell_type": "markdown",
   "metadata": {},
   "source": [
    "Si la $C_0$ es de 30 $\\frac{mg}{L}$ que masa de de adsorbente requerirá una PTAR para eliminar el 90% del AM? El caudal de ingreso es de 180 $\\frac{L}{s}$ y el tiempo de retención del filtro es de 1 hora. Consulte la masa promedio de una cascara de coco y estime la cantidad de cocos requeridos para lograr dicha remoción."
   ]
  },
  {
   "cell_type": "markdown",
   "metadata": {},
   "source": [
    "## 4."
   ]
  },
  {
   "cell_type": "markdown",
   "metadata": {},
   "source": [
    "Evalué graficamente, los modelos anteriores y comparelos."
   ]
  }
 ],
 "metadata": {
  "kernelspec": {
   "display_name": "base",
   "language": "python",
   "name": "python3"
  },
  "language_info": {
   "codemirror_mode": {
    "name": "ipython",
    "version": 3
   },
   "file_extension": ".py",
   "mimetype": "text/x-python",
   "name": "python",
   "nbconvert_exporter": "python",
   "pygments_lexer": "ipython3",
   "version": "3.11.3"
  },
  "orig_nbformat": 4
 },
 "nbformat": 4,
 "nbformat_minor": 2
}
