{
  "nbformat": 4,
  "nbformat_minor": 0,
  "metadata": {
    "colab": {
      "provenance": [],
      "collapsed_sections": [],
      "authorship_tag": "ABX9TyO5zbdJ1tKb3Co8FGUK8Gh0",
      "include_colab_link": true
    },
    "kernelspec": {
      "name": "python3",
      "display_name": "Python 3"
    },
    "language_info": {
      "name": "python"
    }
  },
  "cells": [
    {
      "cell_type": "markdown",
      "metadata": {
        "id": "view-in-github",
        "colab_type": "text"
      },
      "source": [
        "<a href=\"https://colab.research.google.com/github/valizcanos/ProcesosUnitarios/blob/main/2_Ciclones.ipynb\" target=\"_parent\"><img src=\"https://colab.research.google.com/assets/colab-badge.svg\" alt=\"Open In Colab\"/></a>"
      ]
    },
    {
      "cell_type": "code",
      "source": [
        "import numpy as np #Para arreglos, matrices, cualquier tipo de dato numérico\n",
        "import pandas as pd #Para tablas\n",
        "import seaborn as sns #Graficas\n",
        "import matplotlib.pyplot as plt #Graficas"
      ],
      "metadata": {
        "id": "am_wcPCB1wxc"
      },
      "execution_count": null,
      "outputs": []
    },
    {
      "cell_type": "markdown",
      "source": [
        "# **SEPARADOR DE CICLONES**\n",
        "\n",
        "Un separador de ciclones consiste en un cilindro vertical con fondo cónico empleado para la separación de partículas sólidas provenientes de corrientes gaseosas.\n",
        "\n",
        "Los ciclones presentan una entrada tangencial cerca de la parte superior  y una salida para el polvo situada en el fondo del cono, tal como se ilustra en las gráficas siguientes."
      ],
      "metadata": {
        "id": "7IhVMNcVIDVp"
      }
    },
    {
      "cell_type": "code",
      "execution_count": null,
      "metadata": {
        "colab": {
          "base_uri": "https://localhost:8080/",
          "height": 281
        },
        "id": "NBgXyEljEwuI",
        "outputId": "0559baf0-ed11-4a30-ac41-71dc0ac7536c"
      },
      "outputs": [
        {
          "output_type": "display_data",
          "data": {
            "text/plain": [
              "<Figure size 432x288 with 1 Axes>"
            ],
            "image/png": "[encoded data removed]"
          },
          "metadata": {
            "needs_background": "light"
          }
        }
      ],
      "source": [
        "EntradaCiclon = {\"X\": [1,1,3,3,1], \"Y\":[1,2,2,1,1]}\n",
        "plt.plot(EntradaCiclon[\"X\"], EntradaCiclon[\"Y\"])\n",
        "bottom, top = plt.ylim()\n",
        "plt.ylim((0, 3))\n",
        "left, right = plt.xlim()\n",
        "plt.xlim((0,4))\n",
        "plt.arrow(0,1.5, 0.6,0,width=.08)\n",
        "plt.annotate(\"Entrada\", xy=(0.1,1.6))\n",
        "plt.title(\"Entrada de corriente al ciclón\", color=\"r\")\n",
        "plt.show()"
      ]
    },
    {
      "cell_type": "code",
      "source": [
        "salidaCiclon = {\"X\":[1,3,3,4,4,6,1],\"Y\":[4,2,1,1,2,4,4]}\n",
        "plt.plot(salidaCiclon[\"X\"], salidaCiclon[\"Y\"])\n",
        "bottom, top = plt.ylim()\n",
        "plt.ylim((-1, 5))\n",
        "left, right = plt.xlim()\n",
        "plt.xlim((0,6))\n",
        "plt.arrow(3.5,1, 0,-1,width=.08)\n",
        "plt.annotate(\"Salida\", xy=(2.5,0))\n",
        "plt.title(\"Salida de gruesos del ciclón\", color=\"r\")\n",
        "plt.show()"
      ],
      "metadata": {
        "colab": {
          "base_uri": "https://localhost:8080/",
          "height": 281
        },
        "id": "1oBaT1laJyeL",
        "outputId": "58eec41a-e043-4921-a4d0-0842a45d9a84"
      },
      "execution_count": null,
      "outputs": [
        {
          "output_type": "display_data",
          "data": {
            "text/plain": [
              "<Figure size 432x288 with 1 Axes>"
            ],
            "image/png": "[encoded data removed]"
          },
          "metadata": {
            "needs_background": "light"
          }
        }
      ]
    },
    {
      "cell_type": "markdown",
      "source": [
        "## Ecuaciones del ciclón"
      ],
      "metadata": {
        "id": "j55fe4HxRfpD"
      }
    },
    {
      "cell_type": "markdown",
      "source": [
        "### **Velocidad terminal de la partícula:**\n",
        "Está velocidad representa la velocidad final o máxima que alcanza una partícula en fluido bajo condiciones de fuerza constante. Esta medida se define como:\n",
        "\n",
        "$\\vec V = {\\frac{e_E} {18}} {\\frac{\\rho_{s}-\\rho}{\\mu}} D_{p}^{2}$\n",
        "\n",
        "Donde,\n",
        "\n",
        "$\\vec V$: Es la velocidad de la partícula. <br>\n",
        "$a_{E}$: Es la aceleración de la partícula.<br>\n",
        "$\\rho_{s}$: Es la densidad de la parícula.<br>\n",
        "$\\rho$: Es la densidad del fluido.<br>\n",
        "$\\mu$: Es la viscosidad dinámica en unidades de $N ⋅ s \\cdot m^{-2}$, $Pa \\cdot s$ o $kg \\cdot m^{-1} s^{-1}$ .<br>\n",
        "$D_{p}$: Es el diámetro de la partícula.<br>\n",
        "\n",
        "El parámetro $a_E$ se define a través del producto del cuadrado de la velocidad angular ($\\omega$) y su radio ($r$).\n",
        "\n",
        "$a_{E} = r \\cdot \\omega^{2} = \\frac {r \\cdot s^{2}} {r^{2} t^{2}} = \\frac {l} {t^{2}}$ <br>\n",
        "$\\omega = \\frac {Rad} t$ <br>\n",
        "$Rad = \\frac s r$ <br>\n",
        "s: es la longitud del arco."
      ],
      "metadata": {
        "id": "O6_Pg7KrS8Li"
      }
    },
    {
      "cell_type": "code",
      "source": [
        "r = np.arange(0, 3, 0.01) # Rango de radios del ciclón, a modo de ejemplo va de 0 (en la parte final de los gruesos) a 3 (en el borde inicial de la sección cónica).\n",
        "theta = 2 * np.pi * r\n",
        "\n",
        "fig, ax = plt.subplots(subplot_kw={'projection': 'polar'})\n",
        "ax.plot(theta, r)\n",
        "ax.set_rmax(2)\n",
        "ax.set_rticks([0.5, 1, 1.5, 2, 2.5, 3])  # Less radial ticks\n",
        "ax.set_rlabel_position(-22.5)  # Move radial labels away from plotted line\n",
        "ax.grid(True)\n",
        "\n",
        "ax.set_title(\"Recorrido de una particula sedimantable en el ciclón\", va='bottom')\n",
        "plt.show()"
      ],
      "metadata": {
        "colab": {
          "base_uri": "https://localhost:8080/",
          "height": 297
        },
        "id": "3-SaqhCERSke",
        "outputId": "d160087c-aeaa-4277-d79f-4e6d1b266392"
      },
      "execution_count": null,
      "outputs": [
        {
          "output_type": "display_data",
          "data": {
            "text/plain": [
              "<Figure size 432x288 with 1 Axes>"
            ],
            "image/png": "[encoded data removed]"
          },
          "metadata": {
            "needs_background": "light"
          }
        }
      ]
    },
    {
      "cell_type": "code",
      "source": [
        "pd.set_option('display.float_format', '{:.2E}'.format)"
      ],
      "metadata": {
        "id": "qT4aT_ORuUC1"
      },
      "execution_count": null,
      "outputs": []
    },
    {
      "cell_type": "code",
      "source": [
        "# Para este caso asumamos que aE se ve representada por la aceleración de la gravedad y queremos observar la velocidad de diferentes tamaños de partículas en un ciclón.\n",
        "\n",
        "DensidadAire = {\"Temp\":[-30,-20,-10,0,10,20,30,40,50,60,70,80,90,100,200,300], \"Dens\":[1.452,1.395,1.342,1.293,1.247,1.204,1.164,1.127,1.092,1.060,1.030,1.000,.973,.946,.746,.616], \"ViscoDin\":[1.56E-6,1.61E-6,1.67E-6,1.72E-6,1.76E-6, 1.81E-6,1.86E-6,1.91E-6,1.95E-6,2E-6,2.05E-6,2.09E-6,2.13E-6,2.17E-6,2.57E-6,2.93E-6]} #Densida del aire (kg/m3) a diferentes temperaturas (°C)\n",
        "DensidadAire = pd.DataFrame(DensidadAire)\n",
        "DensidadAire\n"
      ],
      "metadata": {
        "colab": {
          "base_uri": "https://localhost:8080/",
          "height": 551
        },
        "id": "fWqnoW6Vo7yV",
        "outputId": "d6c1b9f8-f761-4e54-ce61-8359442f6111"
      },
      "execution_count": null,
      "outputs": [
        {
          "output_type": "execute_result",
          "data": {
            "text/plain": [
              "    Temp     Dens  ViscoDin\n",
              "0    -30 1.45E+00  1.56E-06\n",
              "1    -20 1.40E+00  1.61E-06\n",
              "2    -10 1.34E+00  1.67E-06\n",
              "3      0 1.29E+00  1.72E-06\n",
              "4     10 1.25E+00  1.76E-06\n",
              "5     20 1.20E+00  1.81E-06\n",
              "6     30 1.16E+00  1.86E-06\n",
              "7     40 1.13E+00  1.91E-06\n",
              "8     50 1.09E+00  1.95E-06\n",
              "9     60 1.06E+00  2.00E-06\n",
              "10    70 1.03E+00  2.05E-06\n",
              "11    80 1.00E+00  2.09E-06\n",
              "12    90 9.73E-01  2.13E-06\n",
              "13   100 9.46E-01  2.17E-06\n",
              "14   200 7.46E-01  2.57E-06\n",
              "15   300 6.16E-01  2.93E-06"
            ],
            "text/html": [
              "\n",
              "  <div id=\"df-fdee7ae0-217d-49f5-904d-216eea25090a\">\n",
              "    <div class=\"colab-df-container\">\n",
              "      <div>\n",
              "<style scoped>\n",
              "    .dataframe tbody tr th:only-of-type {\n",
              "        vertical-align: middle;\n",
              "    }\n",
              "\n",
              "    .dataframe tbody tr th {\n",
              "        vertical-align: top;\n",
              "    }\n",
              "\n",
              "    .dataframe thead th {\n",
              "        text-align: right;\n",
              "    }\n",
              "</style>\n",
              "<table border=\"1\" class=\"dataframe\">\n",
              "  <thead>\n",
              "    <tr style=\"text-align: right;\">\n",
              "      <th></th>\n",
              "      <th>Temp</th>\n",
              "      <th>Dens</th>\n",
              "      <th>ViscoDin</th>\n",
              "    </tr>\n",
              "  </thead>\n",
              "  <tbody>\n",
              "    <tr>\n",
              "      <th>0</th>\n",
              "      <td>-30</td>\n",
              "      <td>1.45E+00</td>\n",
              "      <td>1.56E-06</td>\n",
              "    </tr>\n",
              "    <tr>\n",
              "      <th>1</th>\n",
              "      <td>-20</td>\n",
              "      <td>1.40E+00</td>\n",
              "      <td>1.61E-06</td>\n",
              "    </tr>\n",
              "    <tr>\n",
              "      <th>2</th>\n",
              "      <td>-10</td>\n",
              "      <td>1.34E+00</td>\n",
              "      <td>1.67E-06</td>\n",
              "    </tr>\n",
              "    <tr>\n",
              "      <th>3</th>\n",
              "      <td>0</td>\n",
              "      <td>1.29E+00</td>\n",
              "      <td>1.72E-06</td>\n",
              "    </tr>\n",
              "    <tr>\n",
              "      <th>4</th>\n",
              "      <td>10</td>\n",
              "      <td>1.25E+00</td>\n",
              "      <td>1.76E-06</td>\n",
              "    </tr>\n",
              "    <tr>\n",
              "      <th>5</th>\n",
              "      <td>20</td>\n",
              "      <td>1.20E+00</td>\n",
              "      <td>1.81E-06</td>\n",
              "    </tr>\n",
              "    <tr>\n",
              "      <th>6</th>\n",
              "      <td>30</td>\n",
              "      <td>1.16E+00</td>\n",
              "      <td>1.86E-06</td>\n",
              "    </tr>\n",
              "    <tr>\n",
              "      <th>7</th>\n",
              "      <td>40</td>\n",
              "      <td>1.13E+00</td>\n",
              "      <td>1.91E-06</td>\n",
              "    </tr>\n",
              "    <tr>\n",
              "      <th>8</th>\n",
              "      <td>50</td>\n",
              "      <td>1.09E+00</td>\n",
              "      <td>1.95E-06</td>\n",
              "    </tr>\n",
              "    <tr>\n",
              "      <th>9</th>\n",
              "      <td>60</td>\n",
              "      <td>1.06E+00</td>\n",
              "      <td>2.00E-06</td>\n",
              "    </tr>\n",
              "    <tr>\n",
              "      <th>10</th>\n",
              "      <td>70</td>\n",
              "      <td>1.03E+00</td>\n",
              "      <td>2.05E-06</td>\n",
              "    </tr>\n",
              "    <tr>\n",
              "      <th>11</th>\n",
              "      <td>80</td>\n",
              "      <td>1.00E+00</td>\n",
              "      <td>2.09E-06</td>\n",
              "    </tr>\n",
              "    <tr>\n",
              "      <th>12</th>\n",
              "      <td>90</td>\n",
              "      <td>9.73E-01</td>\n",
              "      <td>2.13E-06</td>\n",
              "    </tr>\n",
              "    <tr>\n",
              "      <th>13</th>\n",
              "      <td>100</td>\n",
              "      <td>9.46E-01</td>\n",
              "      <td>2.17E-06</td>\n",
              "    </tr>\n",
              "    <tr>\n",
              "      <th>14</th>\n",
              "      <td>200</td>\n",
              "      <td>7.46E-01</td>\n",
              "      <td>2.57E-06</td>\n",
              "    </tr>\n",
              "    <tr>\n",
              "      <th>15</th>\n",
              "      <td>300</td>\n",
              "      <td>6.16E-01</td>\n",
              "      <td>2.93E-06</td>\n",
              "    </tr>\n",
              "  </tbody>\n",
              "</table>\n",
              "</div>\n",
              "      <button class=\"colab-df-convert\" onclick=\"convertToInteractive('df-fdee7ae0-217d-49f5-904d-216eea25090a')\"\n",
              "              title=\"Convert this dataframe to an interactive table.\"\n",
              "              style=\"display:none;\">\n",
              "        \n",
              "  <svg xmlns=\"http://www.w3.org/2000/svg\" height=\"24px\"viewBox=\"0 0 24 24\"\n",
              "       width=\"24px\">\n",
              "    <path d=\"M0 0h24v24H0V0z\" fill=\"none\"/>\n",
              "    <path d=\"M18.56 5.44l.94 2.06.94-2.06 2.06-.94-2.06-.94-.94-2.06-.94 2.06-2.06.94zm-11 1L8.5 8.5l.94-2.06 2.06-.94-2.06-.94L8.5 2.5l-.94 2.06-2.06.94zm10 10l.94 2.06.94-2.06 2.06-.94-2.06-.94-.94-2.06-.94 2.06-2.06.94z\"/><path d=\"M17.41 7.96l-1.37-1.37c-.4-.4-.92-.59-1.43-.59-.52 0-1.04.2-1.43.59L10.3 9.45l-7.72 7.72c-.78.78-.78 2.05 0 2.83L4 21.41c.39.39.9.59 1.41.59.51 0 1.02-.2 1.41-.59l7.78-7.78 2.81-2.81c.8-.78.8-2.07 0-2.86zM5.41 20L4 18.59l7.72-7.72 1.47 1.35L5.41 20z\"/>\n",
              "  </svg>\n",
              "      </button>\n",
              "      \n",
              "  <style>\n",
              "    .colab-df-container {\n",
              "      display:flex;\n",
              "      flex-wrap:wrap;\n",
              "      gap: 12px;\n",
              "    }\n",
              "\n",
              "    .colab-df-convert {\n",
              "      background-color: #E8F0FE;\n",
              "      border: none;\n",
              "      border-radius: 50%;\n",
              "      cursor: pointer;\n",
              "      display: none;\n",
              "      fill: #1967D2;\n",
              "      height: 32px;\n",
              "      padding: 0 0 0 0;\n",
              "      width: 32px;\n",
              "    }\n",
              "\n",
              "    .colab-df-convert:hover {\n",
              "      background-color: #E2EBFA;\n",
              "      box-shadow: 0px 1px 2px rgba(60, 64, 67, 0.3), 0px 1px 3px 1px rgba(60, 64, 67, 0.15);\n",
              "      fill: #174EA6;\n",
              "    }\n",
              "\n",
              "    [theme=dark] .colab-df-convert {\n",
              "      background-color: #3B4455;\n",
              "      fill: #D2E3FC;\n",
              "    }\n",
              "\n",
              "    [theme=dark] .colab-df-convert:hover {\n",
              "      background-color: #434B5C;\n",
              "      box-shadow: 0px 1px 3px 1px rgba(0, 0, 0, 0.15);\n",
              "      filter: drop-shadow(0px 1px 2px rgba(0, 0, 0, 0.3));\n",
              "      fill: #FFFFFF;\n",
              "    }\n",
              "  </style>\n",
              "\n",
              "      <script>\n",
              "        const buttonEl =\n",
              "          document.querySelector('#df-fdee7ae0-217d-49f5-904d-216eea25090a button.colab-df-convert');\n",
              "        buttonEl.style.display =\n",
              "          google.colab.kernel.accessAllowed ? 'block' : 'none';\n",
              "\n",
              "        async function convertToInteractive(key) {\n",
              "          const element = document.querySelector('#df-fdee7ae0-217d-49f5-904d-216eea25090a');\n",
              "          const dataTable =\n",
              "            await google.colab.kernel.invokeFunction('convertToInteractive',\n",
              "                                                     [key], {});\n",
              "          if (!dataTable) return;\n",
              "\n",
              "          const docLinkHtml = 'Like what you see? Visit the ' +\n",
              "            '<a target=\"_blank\" href=https://colab.research.google.com/notebooks/data_table.ipynb>data table notebook</a>'\n",
              "            + ' to learn more about interactive tables.';\n",
              "          element.innerHTML = '';\n",
              "          dataTable['output_type'] = 'display_data';\n",
              "          await google.colab.output.renderOutput(dataTable, element);\n",
              "          const docLink = document.createElement('div');\n",
              "          docLink.innerHTML = docLinkHtml;\n",
              "          element.appendChild(docLink);\n",
              "        }\n",
              "      </script>\n",
              "    </div>\n",
              "  </div>\n",
              "  "
            ]
          },
          "metadata": {},
          "execution_count": 6
        }
      ]
    },
    {
      "cell_type": "code",
      "source": [
        "DensidadAire.index = DensidadAire.iloc[:, 0]\n",
        "DensidadAire"
      ],
      "metadata": {
        "colab": {
          "base_uri": "https://localhost:8080/",
          "height": 582
        },
        "id": "LzcHgkSIvZUj",
        "outputId": "dc01f970-dc42-4f42-8c47-b4c9ab6cf486"
      },
      "execution_count": null,
      "outputs": [
        {
          "output_type": "execute_result",
          "data": {
            "text/plain": [
              "      Temp     Dens  ViscoDin\n",
              "Temp                         \n",
              "-30    -30 1.45E+00  1.56E-06\n",
              "-20    -20 1.40E+00  1.61E-06\n",
              "-10    -10 1.34E+00  1.67E-06\n",
              " 0       0 1.29E+00  1.72E-06\n",
              " 10     10 1.25E+00  1.76E-06\n",
              " 20     20 1.20E+00  1.81E-06\n",
              " 30     30 1.16E+00  1.86E-06\n",
              " 40     40 1.13E+00  1.91E-06\n",
              " 50     50 1.09E+00  1.95E-06\n",
              " 60     60 1.06E+00  2.00E-06\n",
              " 70     70 1.03E+00  2.05E-06\n",
              " 80     80 1.00E+00  2.09E-06\n",
              " 90     90 9.73E-01  2.13E-06\n",
              " 100   100 9.46E-01  2.17E-06\n",
              " 200   200 7.46E-01  2.57E-06\n",
              " 300   300 6.16E-01  2.93E-06"
            ],
            "text/html": [
              "\n",
              "  <div id=\"df-a1912a6e-2523-4ce0-90d9-2158c0a374ee\">\n",
              "    <div class=\"colab-df-container\">\n",
              "      <div>\n",
              "<style scoped>\n",
              "    .dataframe tbody tr th:only-of-type {\n",
              "        vertical-align: middle;\n",
              "    }\n",
              "\n",
              "    .dataframe tbody tr th {\n",
              "        vertical-align: top;\n",
              "    }\n",
              "\n",
              "    .dataframe thead th {\n",
              "        text-align: right;\n",
              "    }\n",
              "</style>\n",
              "<table border=\"1\" class=\"dataframe\">\n",
              "  <thead>\n",
              "    <tr style=\"text-align: right;\">\n",
              "      <th></th>\n",
              "      <th>Temp</th>\n",
              "      <th>Dens</th>\n",
              "      <th>ViscoDin</th>\n",
              "    </tr>\n",
              "    <tr>\n",
              "      <th>Temp</th>\n",
              "      <th></th>\n",
              "      <th></th>\n",
              "      <th></th>\n",
              "    </tr>\n",
              "  </thead>\n",
              "  <tbody>\n",
              "    <tr>\n",
              "      <th>-30</th>\n",
              "      <td>-30</td>\n",
              "      <td>1.45E+00</td>\n",
              "      <td>1.56E-06</td>\n",
              "    </tr>\n",
              "    <tr>\n",
              "      <th>-20</th>\n",
              "      <td>-20</td>\n",
              "      <td>1.40E+00</td>\n",
              "      <td>1.61E-06</td>\n",
              "    </tr>\n",
              "    <tr>\n",
              "      <th>-10</th>\n",
              "      <td>-10</td>\n",
              "      <td>1.34E+00</td>\n",
              "      <td>1.67E-06</td>\n",
              "    </tr>\n",
              "    <tr>\n",
              "      <th>0</th>\n",
              "      <td>0</td>\n",
              "      <td>1.29E+00</td>\n",
              "      <td>1.72E-06</td>\n",
              "    </tr>\n",
              "    <tr>\n",
              "      <th>10</th>\n",
              "      <td>10</td>\n",
              "      <td>1.25E+00</td>\n",
              "      <td>1.76E-06</td>\n",
              "    </tr>\n",
              "    <tr>\n",
              "      <th>20</th>\n",
              "      <td>20</td>\n",
              "      <td>1.20E+00</td>\n",
              "      <td>1.81E-06</td>\n",
              "    </tr>\n",
              "    <tr>\n",
              "      <th>30</th>\n",
              "      <td>30</td>\n",
              "      <td>1.16E+00</td>\n",
              "      <td>1.86E-06</td>\n",
              "    </tr>\n",
              "    <tr>\n",
              "      <th>40</th>\n",
              "      <td>40</td>\n",
              "      <td>1.13E+00</td>\n",
              "      <td>1.91E-06</td>\n",
              "    </tr>\n",
              "    <tr>\n",
              "      <th>50</th>\n",
              "      <td>50</td>\n",
              "      <td>1.09E+00</td>\n",
              "      <td>1.95E-06</td>\n",
              "    </tr>\n",
              "    <tr>\n",
              "      <th>60</th>\n",
              "      <td>60</td>\n",
              "      <td>1.06E+00</td>\n",
              "      <td>2.00E-06</td>\n",
              "    </tr>\n",
              "    <tr>\n",
              "      <th>70</th>\n",
              "      <td>70</td>\n",
              "      <td>1.03E+00</td>\n",
              "      <td>2.05E-06</td>\n",
              "    </tr>\n",
              "    <tr>\n",
              "      <th>80</th>\n",
              "      <td>80</td>\n",
              "      <td>1.00E+00</td>\n",
              "      <td>2.09E-06</td>\n",
              "    </tr>\n",
              "    <tr>\n",
              "      <th>90</th>\n",
              "      <td>90</td>\n",
              "      <td>9.73E-01</td>\n",
              "      <td>2.13E-06</td>\n",
              "    </tr>\n",
              "    <tr>\n",
              "      <th>100</th>\n",
              "      <td>100</td>\n",
              "      <td>9.46E-01</td>\n",
              "      <td>2.17E-06</td>\n",
              "    </tr>\n",
              "    <tr>\n",
              "      <th>200</th>\n",
              "      <td>200</td>\n",
              "      <td>7.46E-01</td>\n",
              "      <td>2.57E-06</td>\n",
              "    </tr>\n",
              "    <tr>\n",
              "      <th>300</th>\n",
              "      <td>300</td>\n",
              "      <td>6.16E-01</td>\n",
              "      <td>2.93E-06</td>\n",
              "    </tr>\n",
              "  </tbody>\n",
              "</table>\n",
              "</div>\n",
              "      <button class=\"colab-df-convert\" onclick=\"convertToInteractive('df-a1912a6e-2523-4ce0-90d9-2158c0a374ee')\"\n",
              "              title=\"Convert this dataframe to an interactive table.\"\n",
              "              style=\"display:none;\">\n",
              "        \n",
              "  <svg xmlns=\"http://www.w3.org/2000/svg\" height=\"24px\"viewBox=\"0 0 24 24\"\n",
              "       width=\"24px\">\n",
              "    <path d=\"M0 0h24v24H0V0z\" fill=\"none\"/>\n",
              "    <path d=\"M18.56 5.44l.94 2.06.94-2.06 2.06-.94-2.06-.94-.94-2.06-.94 2.06-2.06.94zm-11 1L8.5 8.5l.94-2.06 2.06-.94-2.06-.94L8.5 2.5l-.94 2.06-2.06.94zm10 10l.94 2.06.94-2.06 2.06-.94-2.06-.94-.94-2.06-.94 2.06-2.06.94z\"/><path d=\"M17.41 7.96l-1.37-1.37c-.4-.4-.92-.59-1.43-.59-.52 0-1.04.2-1.43.59L10.3 9.45l-7.72 7.72c-.78.78-.78 2.05 0 2.83L4 21.41c.39.39.9.59 1.41.59.51 0 1.02-.2 1.41-.59l7.78-7.78 2.81-2.81c.8-.78.8-2.07 0-2.86zM5.41 20L4 18.59l7.72-7.72 1.47 1.35L5.41 20z\"/>\n",
              "  </svg>\n",
              "      </button>\n",
              "      \n",
              "  <style>\n",
              "    .colab-df-container {\n",
              "      display:flex;\n",
              "      flex-wrap:wrap;\n",
              "      gap: 12px;\n",
              "    }\n",
              "\n",
              "    .colab-df-convert {\n",
              "      background-color: #E8F0FE;\n",
              "      border: none;\n",
              "      border-radius: 50%;\n",
              "      cursor: pointer;\n",
              "      display: none;\n",
              "      fill: #1967D2;\n",
              "      height: 32px;\n",
              "      padding: 0 0 0 0;\n",
              "      width: 32px;\n",
              "    }\n",
              "\n",
              "    .colab-df-convert:hover {\n",
              "      background-color: #E2EBFA;\n",
              "      box-shadow: 0px 1px 2px rgba(60, 64, 67, 0.3), 0px 1px 3px 1px rgba(60, 64, 67, 0.15);\n",
              "      fill: #174EA6;\n",
              "    }\n",
              "\n",
              "    [theme=dark] .colab-df-convert {\n",
              "      background-color: #3B4455;\n",
              "      fill: #D2E3FC;\n",
              "    }\n",
              "\n",
              "    [theme=dark] .colab-df-convert:hover {\n",
              "      background-color: #434B5C;\n",
              "      box-shadow: 0px 1px 3px 1px rgba(0, 0, 0, 0.15);\n",
              "      filter: drop-shadow(0px 1px 2px rgba(0, 0, 0, 0.3));\n",
              "      fill: #FFFFFF;\n",
              "    }\n",
              "  </style>\n",
              "\n",
              "      <script>\n",
              "        const buttonEl =\n",
              "          document.querySelector('#df-a1912a6e-2523-4ce0-90d9-2158c0a374ee button.colab-df-convert');\n",
              "        buttonEl.style.display =\n",
              "          google.colab.kernel.accessAllowed ? 'block' : 'none';\n",
              "\n",
              "        async function convertToInteractive(key) {\n",
              "          const element = document.querySelector('#df-a1912a6e-2523-4ce0-90d9-2158c0a374ee');\n",
              "          const dataTable =\n",
              "            await google.colab.kernel.invokeFunction('convertToInteractive',\n",
              "                                                     [key], {});\n",
              "          if (!dataTable) return;\n",
              "\n",
              "          const docLinkHtml = 'Like what you see? Visit the ' +\n",
              "            '<a target=\"_blank\" href=https://colab.research.google.com/notebooks/data_table.ipynb>data table notebook</a>'\n",
              "            + ' to learn more about interactive tables.';\n",
              "          element.innerHTML = '';\n",
              "          dataTable['output_type'] = 'display_data';\n",
              "          await google.colab.output.renderOutput(dataTable, element);\n",
              "          const docLink = document.createElement('div');\n",
              "          docLink.innerHTML = docLinkHtml;\n",
              "          element.appendChild(docLink);\n",
              "        }\n",
              "      </script>\n",
              "    </div>\n",
              "  </div>\n",
              "  "
            ]
          },
          "metadata": {},
          "execution_count": 7
        }
      ]
    },
    {
      "cell_type": "code",
      "source": [
        "# Simulemos un rango de densidades para un conjunto de partículas diferentes de cualquier tipo y un mismo diámetro\n",
        "def CalcularVelocidades(denIni, denFin,Temp, nSim):\n",
        "  Densidades = np.linspace(denIni,denFin,nSim)\n",
        "  Velocidades = (9.81/18)*((Densidades-DensidadAire.loc[Temp,\"Dens\"])/(DensidadAire.loc[Temp,\"ViscoDin\"]))*((2.5E-6)**2)#Tamaño de 2.5 micras\n",
        "  plt.plot(Densidades, Velocidades)\n",
        "  plt.ylabel(\"Velocidades m/s\")\n",
        "  plt.xlabel(\"Densidades kg/m^3\")\n",
        "  plt.show()\n"
      ],
      "metadata": {
        "id": "ihP6ek5CrCD3"
      },
      "execution_count": null,
      "outputs": []
    },
    {
      "cell_type": "code",
      "source": [
        "CalcularVelocidades(900,2600,30,150)"
      ],
      "metadata": {
        "colab": {
          "base_uri": "https://localhost:8080/",
          "height": 279
        },
        "id": "4Swb43Ajw76-",
        "outputId": "872339a0-3076-4a0c-c2e3-14436463ca4d"
      },
      "execution_count": null,
      "outputs": [
        {
          "output_type": "display_data",
          "data": {
            "text/plain": [
              "<Figure size 432x288 with 1 Axes>"
            ],
            "image/png": "[encoded data removed]"
          },
          "metadata": {
            "needs_background": "light"
          }
        }
      ]
    },
    {
      "cell_type": "code",
      "source": [
        "#Ahora simulemos partículas con diferentes tamaños y una misma densidad\n",
        "\n",
        "def CalcularVelTam(TamIni, TamFin, denP,Temp, nSim):\n",
        "  Tamanos = np.linspace(TamIni, TamFin,nSim)\n",
        "  Velocidades = (9.81/18)*((denP-DensidadAire.loc[Temp,\"Dens\"])/(DensidadAire.loc[Temp,\"ViscoDin\"]))*((Tamanos)**2)\n",
        "  plt.plot(Tamanos, Velocidades)\n",
        "  plt.ylabel(\"Velocidades m/s\")\n",
        "  plt.xlabel(\"Tamaños de partícula, m\")\n",
        "  plt.axvline(2.5E-6, color=\"#F39C12\")\n",
        "  plt.show()\n"
      ],
      "metadata": {
        "id": "3ot2a4qF0j09"
      },
      "execution_count": null,
      "outputs": []
    },
    {
      "cell_type": "code",
      "source": [
        "CalcularVelTam(2E-6,1E-3,2500,30,150)"
      ],
      "metadata": {
        "colab": {
          "base_uri": "https://localhost:8080/",
          "height": 280
        },
        "id": "yRYCHxsH0ROu",
        "outputId": "38b83fcc-fed2-4e41-f7f2-68249700b832"
      },
      "execution_count": null,
      "outputs": [
        {
          "output_type": "display_data",
          "data": {
            "text/plain": [
              "<Figure size 432x288 with 1 Axes>"
            ],
            "image/png": "[encoded data removed]"
          },
          "metadata": {
            "needs_background": "light"
          }
        }
      ]
    },
    {
      "cell_type": "markdown",
      "source": [
        "## **Tamaño crítico de partícula**\n",
        "Representa el tamaño mínimo de partículas que serán recolectadas por el ciclón. Partículas más pequeñas que el tamaño crítico o mínimo no serán recolectadas. Es por ello que para diseñar ciclones se suele trabajar con cortes X50, que verifican un 50% de recolección de particulas en la salida de los gruesos. <br>\n",
        "\n",
        "En el escalado de los ciclones se suele trabajar con el número de Stokes (adimensional) y el número de Euler definidos como: <br>\n",
        "$Stk_{50} = {\\frac{X_{50}^{2} \\cdot \\rho_{p} \\cdot \\vec V}{18 \\cdot \\mu \\cdot D}}$ <br>\n",
        "$Euler = {\\frac{\\Delta P}{\\rho \\cdot \\vec V^{2} \\cdot 0.5}}$ <br>\n",
        "$Euler = \\sqrt \\frac {12} {Stk_{50}}$ <br>\n",
        "$\\vec V = \\frac {4 \\cdot Q} {\\pi \\cdot D^{2}}$ <br>\n",
        "**Nota**: se recomienda trabajar con caídas de presión entre 50-150 mm de agua (490.5 - 1475.15 Pa a 4°C). La presión en metros es equivalente a $\\frac {P}{\\rho \\cdot g}$, es decir que para convertir esos valores a pascales debemos despejar la presión en metros utilizando la siguiente fórmula, $P = \\rho \\cdot g \\cdot P_{metros}$"
      ],
      "metadata": {
        "id": "17PuCfvzm4Ha"
      }
    },
    {
      "cell_type": "markdown",
      "source": [
        "### **Ejercicio 1**\n",
        "Determine el diámetro del ciclón para tratar 2 $m^{3}/s$ de aire ($\\mu=18.25E-6$ Pa.s, $\\rho= 1.2 \\frac {Kg} {m^{3}}$) cargado con sólidos de densidad=1000 $\\frac {Kg} {m^{3}}$. La caída de presión óptima es de 1177 Pa, y el tamaño de corte deseado es $x_{50}=4 \\mu$. Tome un Euler de 320 y Stk50 1E-4."
      ],
      "metadata": {
        "id": "0isW7gSo-xBA"
      }
    },
    {
      "cell_type": "code",
      "source": [
        "#Paso 1: Crear las funciones que se van a emplear\n",
        "\n",
        "def VelPorEuler(DeltaP, Euler, DensAire): #Estimar velocidad por la ecuación de Euler\n",
        "  Division = DeltaP/(DensAire*0.5*Euler)\n",
        "  Vel = np.sqrt(Division)\n",
        "  return Vel\n",
        "\n",
        "def DiametroPorStk(X50, DenP, Vel, Stk50, Viscos ):\n",
        "  Diametro = (((X50)**2)*DenP*Vel)/(18*Stk50*Viscos)\n",
        "  return Diametro\n",
        "\n",
        "def DiametroPorCaudal(Caudal,Vel):\n",
        "  Diametro = np.sqrt((4*Caudal)/(np.pi* Vel))\n",
        "  return Diametro\n",
        "\n",
        "def DeterminarX50(Stk50, Viscos, Diam, DenP, Vel):\n",
        "  X50 = np.sqrt((Stk50*18*Viscos*Diam)/(DenP*Vel))\n",
        "  return X50"
      ],
      "metadata": {
        "id": "ZH8ceKsQ-LLC"
      },
      "execution_count": null,
      "outputs": []
    },
    {
      "cell_type": "code",
      "source": [
        "#Paso 2: Evaluar parámetros requeridos\n",
        "\n",
        "Velocidad = VelPorEuler(1177,320,1.2)\n",
        "DiametroMet1 = DiametroPorStk(4E-6,1000,Velocidad,1E-4,18.25E-6)\n",
        "DiametroMet2 = DiametroPorCaudal(2,Velocidad)\n",
        "\n",
        "print(\"Velocidad estimada: \", Velocidad, \" m/s\\n\", \"Diámetro del ciclón por Stokes: \", DiametroMet1, \" m\\n\", \"Diámetro del ciclón por Caudal: \", DiametroMet2, \" m\")"
      ],
      "metadata": {
        "colab": {
          "base_uri": "https://localhost:8080/"
        },
        "id": "P4a6E-gPFDnm",
        "outputId": "e5a9d516-3203-4a9c-a7fb-89e5743a73c9"
      },
      "execution_count": null,
      "outputs": [
        {
          "output_type": "stream",
          "name": "stdout",
          "text": [
            "Velocidad estimada:  2.4759257527909297  m/s\n",
            " Diámetro del ciclón por Stokes:  1.2059303514354605  m\n",
            " Diámetro del ciclón por Caudal:  1.0141477900523572  m\n"
          ]
        }
      ]
    },
    {
      "cell_type": "code",
      "source": [
        "#Paso 3: Tomamos el diámetro más grande estimado y rectificamos el X50\n",
        "\n",
        "X50 = DeterminarX50(1E-4,18.25E-6,DiametroMet2,1000,Velocidad)\n",
        "print(X50*1E6, \" micrometros\")"
      ],
      "metadata": {
        "colab": {
          "base_uri": "https://localhost:8080/"
        },
        "id": "BqEllQfhGNvI",
        "outputId": "3423a8aa-b099-45de-c252-4ec4b9403b82"
      },
      "execution_count": null,
      "outputs": [
        {
          "output_type": "stream",
          "name": "stdout",
          "text": [
            "3.6681704057271562  micrometros\n"
          ]
        }
      ]
    },
    {
      "cell_type": "code",
      "source": [
        "#Paso 4: Ahora rectificamos con el diámetro más pequeño\n",
        "\n",
        "X50Nuevo = DeterminarX50(1E-4,18.25E-6,DiametroMet1,1000,Velocidad)\n",
        "print(X50Nuevo*1E6, \" micrometros\")"
      ],
      "metadata": {
        "colab": {
          "base_uri": "https://localhost:8080/"
        },
        "id": "wO2xztE9LAYC",
        "outputId": "35823530-edf3-4815-ddea-da8a3b351d5b"
      },
      "execution_count": null,
      "outputs": [
        {
          "output_type": "stream",
          "name": "stdout",
          "text": [
            "4.0  micrometros\n"
          ]
        }
      ]
    },
    {
      "cell_type": "markdown",
      "source": [
        "## **Ejercicio2**\n",
        "Con base en lo visto en la clase pasada y con lo visto en la clase práctica determine el diámetro de un ciclón que muestra los siguiente resultados (mostrados en la siguiente tabla). Asuma un $\\Delta P$ de 75 mm de presión de agua. Tome valores de Euler y Stokes de 320 y 1E-4. **Nota:** El aire que transporta las partículas presenta una temperatura de 50°C, un caudal de 3 $m^{3}/s$, una masa de ingreso de 200 kg y una masa recolectada en la salida de los gruesos de 166.5 kg."
      ],
      "metadata": {
        "id": "WeJQR9s5O5Au"
      }
    },
    {
      "cell_type": "code",
      "source": [
        "DatosEjercicio2 = {\"TamanoPart\":[8E-6,11E-6,16E-6,22E-6, 32E-6,47E-6], \"FraccionAlimentacion\":[0.05,0.2,0.35,0.25,0.1,0.05], \"FraccionEnGruesos\": [0.015, 0.139,0.366,0.3,0.12,0.06]}\n",
        "DatosEjercicio2 = pd.DataFrame(DatosEjercicio2)\n",
        "DatosEjercicio2\n",
        "#El tamaño de las partículas está en micrometros"
      ],
      "metadata": {
        "colab": {
          "base_uri": "https://localhost:8080/",
          "height": 237
        },
        "id": "GZicxyyOO4FZ",
        "outputId": "a94748ad-0e0d-4fd6-d612-c988a57dd989"
      },
      "execution_count": null,
      "outputs": [
        {
          "output_type": "execute_result",
          "data": {
            "text/plain": [
              "   TamanoPart  FraccionAlimentacion  FraccionEnGruesos\n",
              "0    8.00E-06              5.00E-02           1.50E-02\n",
              "1    1.10E-05              2.00E-01           1.39E-01\n",
              "2    1.60E-05              3.50E-01           3.66E-01\n",
              "3    2.20E-05              2.50E-01           3.00E-01\n",
              "4    3.20E-05              1.00E-01           1.20E-01\n",
              "5    4.70E-05              5.00E-02           6.00E-02"
            ],
            "text/html": [
              "\n",
              "  <div id=\"df-ebae2bc8-445d-4466-af60-aa1b72ee5fec\">\n",
              "    <div class=\"colab-df-container\">\n",
              "      <div>\n",
              "<style scoped>\n",
              "    .dataframe tbody tr th:only-of-type {\n",
              "        vertical-align: middle;\n",
              "    }\n",
              "\n",
              "    .dataframe tbody tr th {\n",
              "        vertical-align: top;\n",
              "    }\n",
              "\n",
              "    .dataframe thead th {\n",
              "        text-align: right;\n",
              "    }\n",
              "</style>\n",
              "<table border=\"1\" class=\"dataframe\">\n",
              "  <thead>\n",
              "    <tr style=\"text-align: right;\">\n",
              "      <th></th>\n",
              "      <th>TamanoPart</th>\n",
              "      <th>FraccionAlimentacion</th>\n",
              "      <th>FraccionEnGruesos</th>\n",
              "    </tr>\n",
              "  </thead>\n",
              "  <tbody>\n",
              "    <tr>\n",
              "      <th>0</th>\n",
              "      <td>8.00E-06</td>\n",
              "      <td>5.00E-02</td>\n",
              "      <td>1.50E-02</td>\n",
              "    </tr>\n",
              "    <tr>\n",
              "      <th>1</th>\n",
              "      <td>1.10E-05</td>\n",
              "      <td>2.00E-01</td>\n",
              "      <td>1.39E-01</td>\n",
              "    </tr>\n",
              "    <tr>\n",
              "      <th>2</th>\n",
              "      <td>1.60E-05</td>\n",
              "      <td>3.50E-01</td>\n",
              "      <td>3.66E-01</td>\n",
              "    </tr>\n",
              "    <tr>\n",
              "      <th>3</th>\n",
              "      <td>2.20E-05</td>\n",
              "      <td>2.50E-01</td>\n",
              "      <td>3.00E-01</td>\n",
              "    </tr>\n",
              "    <tr>\n",
              "      <th>4</th>\n",
              "      <td>3.20E-05</td>\n",
              "      <td>1.00E-01</td>\n",
              "      <td>1.20E-01</td>\n",
              "    </tr>\n",
              "    <tr>\n",
              "      <th>5</th>\n",
              "      <td>4.70E-05</td>\n",
              "      <td>5.00E-02</td>\n",
              "      <td>6.00E-02</td>\n",
              "    </tr>\n",
              "  </tbody>\n",
              "</table>\n",
              "</div>\n",
              "      <button class=\"colab-df-convert\" onclick=\"convertToInteractive('df-ebae2bc8-445d-4466-af60-aa1b72ee5fec')\"\n",
              "              title=\"Convert this dataframe to an interactive table.\"\n",
              "              style=\"display:none;\">\n",
              "        \n",
              "  <svg xmlns=\"http://www.w3.org/2000/svg\" height=\"24px\"viewBox=\"0 0 24 24\"\n",
              "       width=\"24px\">\n",
              "    <path d=\"M0 0h24v24H0V0z\" fill=\"none\"/>\n",
              "    <path d=\"M18.56 5.44l.94 2.06.94-2.06 2.06-.94-2.06-.94-.94-2.06-.94 2.06-2.06.94zm-11 1L8.5 8.5l.94-2.06 2.06-.94-2.06-.94L8.5 2.5l-.94 2.06-2.06.94zm10 10l.94 2.06.94-2.06 2.06-.94-2.06-.94-.94-2.06-.94 2.06-2.06.94z\"/><path d=\"M17.41 7.96l-1.37-1.37c-.4-.4-.92-.59-1.43-.59-.52 0-1.04.2-1.43.59L10.3 9.45l-7.72 7.72c-.78.78-.78 2.05 0 2.83L4 21.41c.39.39.9.59 1.41.59.51 0 1.02-.2 1.41-.59l7.78-7.78 2.81-2.81c.8-.78.8-2.07 0-2.86zM5.41 20L4 18.59l7.72-7.72 1.47 1.35L5.41 20z\"/>\n",
              "  </svg>\n",
              "      </button>\n",
              "      \n",
              "  <style>\n",
              "    .colab-df-container {\n",
              "      display:flex;\n",
              "      flex-wrap:wrap;\n",
              "      gap: 12px;\n",
              "    }\n",
              "\n",
              "    .colab-df-convert {\n",
              "      background-color: #E8F0FE;\n",
              "      border: none;\n",
              "      border-radius: 50%;\n",
              "      cursor: pointer;\n",
              "      display: none;\n",
              "      fill: #1967D2;\n",
              "      height: 32px;\n",
              "      padding: 0 0 0 0;\n",
              "      width: 32px;\n",
              "    }\n",
              "\n",
              "    .colab-df-convert:hover {\n",
              "      background-color: #E2EBFA;\n",
              "      box-shadow: 0px 1px 2px rgba(60, 64, 67, 0.3), 0px 1px 3px 1px rgba(60, 64, 67, 0.15);\n",
              "      fill: #174EA6;\n",
              "    }\n",
              "\n",
              "    [theme=dark] .colab-df-convert {\n",
              "      background-color: #3B4455;\n",
              "      fill: #D2E3FC;\n",
              "    }\n",
              "\n",
              "    [theme=dark] .colab-df-convert:hover {\n",
              "      background-color: #434B5C;\n",
              "      box-shadow: 0px 1px 3px 1px rgba(0, 0, 0, 0.15);\n",
              "      filter: drop-shadow(0px 1px 2px rgba(0, 0, 0, 0.3));\n",
              "      fill: #FFFFFF;\n",
              "    }\n",
              "  </style>\n",
              "\n",
              "      <script>\n",
              "        const buttonEl =\n",
              "          document.querySelector('#df-ebae2bc8-445d-4466-af60-aa1b72ee5fec button.colab-df-convert');\n",
              "        buttonEl.style.display =\n",
              "          google.colab.kernel.accessAllowed ? 'block' : 'none';\n",
              "\n",
              "        async function convertToInteractive(key) {\n",
              "          const element = document.querySelector('#df-ebae2bc8-445d-4466-af60-aa1b72ee5fec');\n",
              "          const dataTable =\n",
              "            await google.colab.kernel.invokeFunction('convertToInteractive',\n",
              "                                                     [key], {});\n",
              "          if (!dataTable) return;\n",
              "\n",
              "          const docLinkHtml = 'Like what you see? Visit the ' +\n",
              "            '<a target=\"_blank\" href=https://colab.research.google.com/notebooks/data_table.ipynb>data table notebook</a>'\n",
              "            + ' to learn more about interactive tables.';\n",
              "          element.innerHTML = '';\n",
              "          dataTable['output_type'] = 'display_data';\n",
              "          await google.colab.output.renderOutput(dataTable, element);\n",
              "          const docLink = document.createElement('div');\n",
              "          docLink.innerHTML = docLinkHtml;\n",
              "          element.appendChild(docLink);\n",
              "        }\n",
              "      </script>\n",
              "    </div>\n",
              "  </div>\n",
              "  "
            ]
          },
          "metadata": {},
          "execution_count": 16
        }
      ]
    },
    {
      "cell_type": "markdown",
      "source": [
        "## **Ejercicio 3**\n",
        "Determine el diámetro de un ciclón que operará con 2.2 $m^{3}/s$. El aire presenta una densidad de 0.5 $kg/m^{3}$ y una viscosidad de $2E-5$ Pa.s y contiene polvo con densidad de 2000 $kg/m^{3}$. Se desea trabajar con un corte ($X_{50}$) de 7 micras y una caída de presión de 1200 Pa. Trabaje con valores de Euler y Stokes de 320 y $1E-4$."
      ],
      "metadata": {
        "id": "yCky7b02SsFA"
      }
    },
    {
      "cell_type": "markdown",
      "source": [
        "$Stk_{50} = {\\frac{X_{50}^{2} \\cdot \\rho_{p} \\cdot \\vec V}{18 \\cdot \\mu \\cdot D}}$ <br>\n",
        "$Euler = {\\frac{\\Delta P}{\\rho \\cdot \\vec V^{2} \\cdot 0.5}}$ <br>\n",
        "$Euler = \\sqrt \\frac {12} {Stk_{50}}$ <br>\n",
        "$\\vec V = \\frac {4 \\cdot Q} {\\pi \\cdot D^{2}}$ <br>"
      ],
      "metadata": {
        "id": "Fg23h2N1En30"
      }
    },
    {
      "cell_type": "markdown",
      "source": [
        "**Nota**: se recomienda trabajar con caídas de presión entre 50-150 mm de agua (490.5 - 1475.15 Pa a 4°C). La presión en metros es equivalente a $\\frac {P}{\\rho \\cdot g}$, es decir que para convertir esos valores a pascales debemos despejar la presión en metros utilizando la siguiente fórmula, $P = \\rho \\cdot g \\cdot P_{metros}$"
      ],
      "metadata": {
        "id": "B2RhOA5-FAY6"
      }
    },
    {
      "cell_type": "code",
      "source": [
        "D = 0.5 #Metros"
      ],
      "metadata": {
        "id": "3oWW8471EjOD"
      },
      "execution_count": null,
      "outputs": []
    },
    {
      "cell_type": "code",
      "source": [
        "DensidadAgua = 1000 #kg/m3 "
      ],
      "metadata": {
        "id": "UkrWLrcsObJm"
      },
      "execution_count": null,
      "outputs": []
    },
    {
      "cell_type": "code",
      "source": [
        "DensidadAire = 1.2 #kg/m3"
      ],
      "metadata": {
        "id": "SxyTgihVFVDe"
      },
      "execution_count": null,
      "outputs": []
    },
    {
      "cell_type": "code",
      "source": [
        "Caudal = 2 #m3/s"
      ],
      "metadata": {
        "id": "3G82aTotFti2"
      },
      "execution_count": null,
      "outputs": []
    },
    {
      "cell_type": "code",
      "source": [
        "Velocidad = (4*Caudal)/(np.pi*(D**2))\n",
        "Velocidad"
      ],
      "metadata": {
        "colab": {
          "base_uri": "https://localhost:8080/"
        },
        "id": "vvkMs6zhFlY3",
        "outputId": "8f713d87-e8c0-476d-b066-2be89e1b7939"
      },
      "execution_count": null,
      "outputs": [
        {
          "output_type": "execute_result",
          "data": {
            "text/plain": [
              "10.185916357881302"
            ]
          },
          "metadata": {},
          "execution_count": 24
        }
      ]
    },
    {
      "cell_type": "code",
      "source": [
        "PresionCaida = np.linspace(50/1000, 0.15, 100) * DensidadAgua * 9.81\n",
        "PresionCaida"
      ],
      "metadata": {
        "colab": {
          "base_uri": "https://localhost:8080/"
        },
        "id": "u_aHGrZhGG4y",
        "outputId": "7162b5b2-2f59-413c-f076-8585d6f6c274"
      },
      "execution_count": null,
      "outputs": [
        {
          "output_type": "execute_result",
          "data": {
            "text/plain": [
              "array([ 490.5       ,  500.40909091,  510.31818182,  520.22727273,\n",
              "        530.13636364,  540.04545455,  549.95454545,  559.86363636,\n",
              "        569.77272727,  579.68181818,  589.59090909,  599.5       ,\n",
              "        609.40909091,  619.31818182,  629.22727273,  639.13636364,\n",
              "        649.04545455,  658.95454545,  668.86363636,  678.77272727,\n",
              "        688.68181818,  698.59090909,  708.5       ,  718.40909091,\n",
              "        728.31818182,  738.22727273,  748.13636364,  758.04545455,\n",
              "        767.95454545,  777.86363636,  787.77272727,  797.68181818,\n",
              "        807.59090909,  817.5       ,  827.40909091,  837.31818182,\n",
              "        847.22727273,  857.13636364,  867.04545455,  876.95454545,\n",
              "        886.86363636,  896.77272727,  906.68181818,  916.59090909,\n",
              "        926.5       ,  936.40909091,  946.31818182,  956.22727273,\n",
              "        966.13636364,  976.04545455,  985.95454545,  995.86363636,\n",
              "       1005.77272727, 1015.68181818, 1025.59090909, 1035.5       ,\n",
              "       1045.40909091, 1055.31818182, 1065.22727273, 1075.13636364,\n",
              "       1085.04545455, 1094.95454545, 1104.86363636, 1114.77272727,\n",
              "       1124.68181818, 1134.59090909, 1144.5       , 1154.40909091,\n",
              "       1164.31818182, 1174.22727273, 1184.13636364, 1194.04545455,\n",
              "       1203.95454545, 1213.86363636, 1223.77272727, 1233.68181818,\n",
              "       1243.59090909, 1253.5       , 1263.40909091, 1273.31818182,\n",
              "       1283.22727273, 1293.13636364, 1303.04545455, 1312.95454545,\n",
              "       1322.86363636, 1332.77272727, 1342.68181818, 1352.59090909,\n",
              "       1362.5       , 1372.40909091, 1382.31818182, 1392.22727273,\n",
              "       1402.13636364, 1412.04545455, 1421.95454545, 1431.86363636,\n",
              "       1441.77272727, 1451.68181818, 1461.59090909, 1471.5       ])"
            ]
          },
          "metadata": {},
          "execution_count": 25
        }
      ]
    },
    {
      "cell_type": "code",
      "source": [
        "Euler = (PresionCaida)/(DensidadAire* (Velocidad**2)*0.5)\n",
        "Euler"
      ],
      "metadata": {
        "colab": {
          "base_uri": "https://localhost:8080/"
        },
        "id": "ZoY75LQFGk0w",
        "outputId": "f67da702-27a2-4a8c-a1eb-0e3d03fefa0b"
      },
      "execution_count": null,
      "outputs": [
        {
          "output_type": "execute_result",
          "data": {
            "text/plain": [
              "array([ 7.87929844,  8.03847618,  8.19765393,  8.35683167,  8.51600942,\n",
              "        8.67518717,  8.83436491,  8.99354266,  9.1527204 ,  9.31189815,\n",
              "        9.4710759 ,  9.63025364,  9.78943139,  9.94860914, 10.10778688,\n",
              "       10.26696463, 10.42614237, 10.58532012, 10.74449787, 10.90367561,\n",
              "       11.06285336, 11.22203111, 11.38120885, 11.5403866 , 11.69956434,\n",
              "       11.85874209, 12.01791984, 12.17709758, 12.33627533, 12.49545307,\n",
              "       12.65463082, 12.81380857, 12.97298631, 13.13216406, 13.29134181,\n",
              "       13.45051955, 13.6096973 , 13.76887504, 13.92805279, 14.08723054,\n",
              "       14.24640828, 14.40558603, 14.56476377, 14.72394152, 14.88311927,\n",
              "       15.04229701, 15.20147476, 15.36065251, 15.51983025, 15.679008  ,\n",
              "       15.83818574, 15.99736349, 16.15654124, 16.31571898, 16.47489673,\n",
              "       16.63407447, 16.79325222, 16.95242997, 17.11160771, 17.27078546,\n",
              "       17.42996321, 17.58914095, 17.7483187 , 17.90749644, 18.06667419,\n",
              "       18.22585194, 18.38502968, 18.54420743, 18.70338518, 18.86256292,\n",
              "       19.02174067, 19.18091841, 19.34009616, 19.49927391, 19.65845165,\n",
              "       19.8176294 , 19.97680714, 20.13598489, 20.29516264, 20.45434038,\n",
              "       20.61351813, 20.77269588, 20.93187362, 21.09105137, 21.25022911,\n",
              "       21.40940686, 21.56858461, 21.72776235, 21.8869401 , 22.04611784,\n",
              "       22.20529559, 22.36447334, 22.52365108, 22.68282883, 22.84200658,\n",
              "       23.00118432, 23.16036207, 23.31953981, 23.47871756, 23.63789531])"
            ]
          },
          "metadata": {},
          "execution_count": 26
        }
      ]
    },
    {
      "cell_type": "code",
      "source": [
        "Stk50 = 12/(Euler**2)\n",
        "Stk50"
      ],
      "metadata": {
        "colab": {
          "base_uri": "https://localhost:8080/"
        },
        "id": "vYUEavW8G44e",
        "outputId": "4d4f80d2-fe93-427e-dee8-36d9aee8f0db"
      },
      "execution_count": null,
      "outputs": [
        {
          "output_type": "execute_result",
          "data": {
            "text/plain": [
              "array([0.19328856, 0.18570936, 0.17856736, 0.17182958, 0.16546608,\n",
              "       0.15944964, 0.15375547, 0.14836096, 0.14324546, 0.13839003,\n",
              "       0.13377736, 0.12939151, 0.12521787, 0.12124295, 0.11745435,\n",
              "       0.11384058, 0.11039107, 0.107096  , 0.10394629, 0.10093352,\n",
              "       0.09804985, 0.09528802, 0.09264126, 0.09010327, 0.08766815,\n",
              "       0.08533044, 0.083085  , 0.08092704, 0.07885208, 0.0768559 ,\n",
              "       0.07493458, 0.07308442, 0.07130194, 0.06958388, 0.06792718,\n",
              "       0.06632895, 0.06478647, 0.06329718, 0.06185865, 0.06046861,\n",
              "       0.05912491, 0.0578255 , 0.05656846, 0.05535197, 0.0541743 ,\n",
              "       0.05303382, 0.05192898, 0.05085831, 0.04982041, 0.04881396,\n",
              "       0.04783771, 0.04689045, 0.04597105, 0.04507843, 0.04421156,\n",
              "       0.04336945, 0.04255118, 0.04175585, 0.04098261, 0.04023065,\n",
              "       0.0394992 , 0.03878752, 0.0380949 , 0.03742066, 0.03676417,\n",
              "       0.03612481, 0.03550198, 0.03489512, 0.03430369, 0.03372717,\n",
              "       0.03316506, 0.03261688, 0.03208219, 0.03156054, 0.0310515 ,\n",
              "       0.03055469, 0.0300697 , 0.02959617, 0.02913374, 0.02868206,\n",
              "       0.0282408 , 0.02780965, 0.0273883 , 0.02697645, 0.02657382,\n",
              "       0.02618014, 0.02579514, 0.02541858, 0.0250502 , 0.02468977,\n",
              "       0.02433706, 0.02399186, 0.02365395, 0.02332313, 0.0229992 ,\n",
              "       0.02268197, 0.02237127, 0.0220669 , 0.0217687 , 0.02147651])"
            ]
          },
          "metadata": {},
          "execution_count": 27
        }
      ]
    },
    {
      "cell_type": "code",
      "source": [
        "plt.plot(Stk50,Euler)\n",
        "plt.xlabel(\"Stk50\")\n",
        "plt.ylabel(\"Euler\")\n",
        "plt.title(\"Número de Euler Vs Número Stokes 50\")\n",
        "plt.show()"
      ],
      "metadata": {
        "colab": {
          "base_uri": "https://localhost:8080/",
          "height": 295
        },
        "id": "gp2YgvPXHGr3",
        "outputId": "fba73e6b-9984-4fdd-9f2d-bbba9ccb2d5b"
      },
      "execution_count": null,
      "outputs": [
        {
          "output_type": "display_data",
          "data": {
            "text/plain": [
              "<Figure size 432x288 with 1 Axes>"
            ],
            "image/png": "[encoded data removed]"
          },
          "metadata": {
            "needs_background": "light"
          }
        }
      ]
    }
  ]
}