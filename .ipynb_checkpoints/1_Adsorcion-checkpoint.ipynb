{
 "cells": [
  {
   "cell_type": "markdown",
   "metadata": {
    "colab_type": "text",
    "id": "view-in-github"
   },
   "source": [
    "<a href=\"https://colab.research.google.com/github/valizcanos/ProcesosUnitarios/blob/main/1_Adsorcion.ipynb\" target=\"_parent\"><img src=\"https://colab.research.google.com/assets/colab-badge.svg\" alt=\"Open In Colab\"/></a>"
   ]
  },
  {
   "cell_type": "code",
   "execution_count": 1,
   "metadata": {
    "id": "am_wcPCB1wxc"
   },
   "outputs": [],
   "source": [
    "import numpy as np #Para arreglos, matrices, cualquier tipo de dato numérico\n",
    "import pandas as pd #Para tablas\n",
    "import seaborn as sns #Graficas\n",
    "import matplotlib.pyplot as plt #Graficas"
   ]
  },
  {
   "cell_type": "markdown",
   "metadata": {
    "id": "7bauqgsrxUSN"
   },
   "source": [
    "# ISOTERMAS DE ADSORCIÓN"
   ]
  },
  {
   "cell_type": "markdown",
   "metadata": {
    "id": "-nQYgM78xdaY"
   },
   "source": [
    "$q = C^{1/n} {K}$ <p> Representa la ecuación de isotermas de Freundlich. </p> <br>\n",
    "$ln (q) = {\\frac 1 n}ln (C)+ ln (K)$"
   ]
  },
  {
   "cell_type": "markdown",
   "metadata": {
    "id": "JDbsG_DsyisN"
   },
   "source": [
    "$q = (\\frac V M)(C_{0}-C)$"
   ]
  },
  {
   "cell_type": "markdown",
   "metadata": {
    "id": "LPtxNiwF0E4-"
   },
   "source": [
    "## <p style=\"color:red\"> **Adsorbente:** polvo de hojas de Teca para la adsorcion de Cu2+</p> <br>\n",
    "Volumen del reactor: 500 mL - Concentracion inicial 15 mg/L\n",
    "\n",
    "1.   V = 0.5 L\n",
    "2.   $C_0$ = 15 mg/L\n",
    "3.   ${\\frac 1 n} = 0.8773 $\n",
    "4.   K = 0.6625\n"
   ]
  },
  {
   "cell_type": "code",
   "execution_count": 2,
   "metadata": {
    "id": "Y1tTphwxxSGX"
   },
   "outputs": [],
   "source": [
    "K = 0.6625 #Parametro K\n",
    "In = 0.8773 #Parametro 1/n"
   ]
  },
  {
   "cell_type": "code",
   "execution_count": 3,
   "metadata": {
    "colab": {
     "base_uri": "https://localhost:8080/"
    },
    "id": "J0BRnsnAUgQB",
    "outputId": "b9ba7c2e-3fb1-46c4-ed66-8086a5469c46"
   },
   "outputs": [
    {
     "name": "stdout",
     "output_type": "stream",
     "text": [
      "0.6625\n"
     ]
    }
   ],
   "source": [
    "print(K)"
   ]
  },
  {
   "cell_type": "code",
   "execution_count": 4,
   "metadata": {
    "colab": {
     "base_uri": "https://localhost:8080/"
    },
    "id": "y4B1GGSWUqwI",
    "outputId": "3275a61d-8082-4531-e3d5-5517a855d55d"
   },
   "outputs": [
    {
     "data": {
      "text/plain": [
       "float"
      ]
     },
     "execution_count": 4,
     "metadata": {},
     "output_type": "execute_result"
    }
   ],
   "source": [
    "type(K)"
   ]
  },
  {
   "cell_type": "markdown",
   "metadata": {
    "id": "hGWBPB5D1ILS"
   },
   "source": [
    "### Evaluar ln(q) en ln(C) entre 0 y 2.4 "
   ]
  },
  {
   "cell_type": "code",
   "execution_count": 5,
   "metadata": {
    "id": "LeqlAf3NxT0r"
   },
   "outputs": [],
   "source": [
    "Lnq = [] # Lista vacia\n",
    "C = np.arange(0.1,2.5,0.1)\n",
    "\n",
    "for i in np.arange(len(C)):\n",
    "  Lnq.append(In*np.log(C[i]) + np.log(K))"
   ]
  },
  {
   "cell_type": "code",
   "execution_count": 6,
   "metadata": {
    "colab": {
     "base_uri": "https://localhost:8080/"
    },
    "id": "sIdt7js0b6kI",
    "outputId": "46a7fa1e-813f-423a-f745-343260424495"
   },
   "outputs": [
    {
     "data": {
      "text/plain": [
       "24"
      ]
     },
     "execution_count": 6,
     "metadata": {},
     "output_type": "execute_result"
    }
   ],
   "source": [
    "len(C)"
   ]
  },
  {
   "cell_type": "code",
   "execution_count": 7,
   "metadata": {
    "colab": {
     "base_uri": "https://localhost:8080/"
    },
    "id": "tpvb5ea7cLC2",
    "outputId": "24618e2e-2019-4ba5-ac2f-0c592cbf0294"
   },
   "outputs": [
    {
     "data": {
      "text/plain": [
       "array([0.1, 0.2, 0.3, 0.4, 0.5, 0.6, 0.7, 0.8, 0.9, 1. , 1.1, 1.2, 1.3,\n",
       "       1.4, 1.5, 1.6, 1.7, 1.8, 1.9, 2. , 2.1, 2.2, 2.3, 2.4])"
      ]
     },
     "execution_count": 7,
     "metadata": {},
     "output_type": "execute_result"
    }
   ],
   "source": [
    "C"
   ]
  },
  {
   "cell_type": "code",
   "execution_count": 8,
   "metadata": {
    "colab": {
     "base_uri": "https://localhost:8080/"
    },
    "id": "OY1JbLgT20-x",
    "outputId": "58a61638-0dc2-4de8-beed-d403771ac082"
   },
   "outputs": [
    {
     "name": "stdout",
     "output_type": "stream",
     "text": [
      "[-2.432e+00 -1.824e+00 -1.468e+00 -1.216e+00 -1.020e+00 -8.600e-01\n",
      " -7.250e-01 -6.070e-01 -5.040e-01 -4.120e-01 -3.280e-01 -2.520e-01\n",
      " -1.820e-01 -1.170e-01 -5.600e-02  1.000e-03  5.400e-02  1.040e-01\n",
      "  1.510e-01  1.960e-01  2.390e-01  2.800e-01  3.190e-01  3.560e-01]\n"
     ]
    }
   ],
   "source": [
    "print(np.around(Lnq, decimals=3))"
   ]
  },
  {
   "cell_type": "code",
   "execution_count": 9,
   "metadata": {
    "colab": {
     "base_uri": "https://localhost:8080/"
    },
    "id": "0Ra-sdO027HN",
    "outputId": "eec633a4-bac4-4507-f187-ee2c93c046c0"
   },
   "outputs": [
    {
     "data": {
      "text/plain": [
       "array([0.08787916, 0.16142823, 0.23039039, 0.29653306, 0.36065526,\n",
       "       0.423212  , 0.48449622, 0.54471173, 0.6040082 , 0.6625    ,\n",
       "       0.72027723, 0.77741263, 0.83396608, 0.88998771, 0.94552005,\n",
       "       1.00059964, 1.05525817, 1.10952336, 1.16341971, 1.21696895,\n",
       "       1.27019053, 1.32310192, 1.37571893, 1.42805589])"
      ]
     },
     "execution_count": 9,
     "metadata": {},
     "output_type": "execute_result"
    }
   ],
   "source": [
    "q = np.exp(Lnq) #(mg/g) --> mg adsorbato/ g adsorbente\n",
    "q"
   ]
  },
  {
   "cell_type": "code",
   "execution_count": 10,
   "metadata": {
    "colab": {
     "base_uri": "https://localhost:8080/"
    },
    "id": "NFud2LAO3mfO",
    "outputId": "914530cd-3237-4fcd-c30c-838c4cfcf25c"
   },
   "outputs": [
    {
     "data": {
      "text/plain": [
       "array([0.1, 0.2, 0.3, 0.4, 0.5, 0.6, 0.7, 0.8, 0.9, 1. , 1.1, 1.2, 1.3,\n",
       "       1.4, 1.5, 1.6, 1.7, 1.8, 1.9, 2. , 2.1, 2.2, 2.3, 2.4])"
      ]
     },
     "execution_count": 10,
     "metadata": {},
     "output_type": "execute_result"
    }
   ],
   "source": [
    "C = np.arange(0.1,2.5,0.1)\n",
    "C"
   ]
  },
  {
   "cell_type": "code",
   "execution_count": 11,
   "metadata": {
    "colab": {
     "base_uri": "https://localhost:8080/"
    },
    "id": "WO9TMuez4uXq",
    "outputId": "07c9fec8-8de8-4d09-db22-80cee913a0e3"
   },
   "outputs": [
    {
     "data": {
      "text/plain": [
       "array([[0.08787916, 0.16142823, 0.23039039, 0.29653306, 0.36065526,\n",
       "        0.423212  , 0.48449622, 0.54471173, 0.6040082 , 0.6625    ,\n",
       "        0.72027723, 0.77741263, 0.83396608, 0.88998771, 0.94552005,\n",
       "        1.00059964, 1.05525817, 1.10952336, 1.16341971, 1.21696895,\n",
       "        1.27019053, 1.32310192, 1.37571893, 1.42805589],\n",
       "       [0.1       , 0.2       , 0.3       , 0.4       , 0.5       ,\n",
       "        0.6       , 0.7       , 0.8       , 0.9       , 1.        ,\n",
       "        1.1       , 1.2       , 1.3       , 1.4       , 1.5       ,\n",
       "        1.6       , 1.7       , 1.8       , 1.9       , 2.        ,\n",
       "        2.1       , 2.2       , 2.3       , 2.4       ]])"
      ]
     },
     "execution_count": 11,
     "metadata": {},
     "output_type": "execute_result"
    }
   ],
   "source": [
    "Ds =  np.array([q,C])\n",
    "Ds"
   ]
  },
  {
   "cell_type": "code",
   "execution_count": 12,
   "metadata": {
    "id": "xTN9Q6gA3v4s"
   },
   "outputs": [],
   "source": [
    "Datos = pd.DataFrame(Ds.transpose(), columns=[\"q\",\"C\"])"
   ]
  },
  {
   "cell_type": "code",
   "execution_count": 13,
   "metadata": {
    "colab": {
     "base_uri": "https://localhost:8080/",
     "height": 802
    },
    "id": "Jg4hpAw54chr",
    "outputId": "475d60ba-8193-4f55-c4e6-37367479b07e"
   },
   "outputs": [
    {
     "data": {
      "text/html": [
       "<div>\n",
       "<style scoped>\n",
       "    .dataframe tbody tr th:only-of-type {\n",
       "        vertical-align: middle;\n",
       "    }\n",
       "\n",
       "    .dataframe tbody tr th {\n",
       "        vertical-align: top;\n",
       "    }\n",
       "\n",
       "    .dataframe thead th {\n",
       "        text-align: right;\n",
       "    }\n",
       "</style>\n",
       "<table border=\"1\" class=\"dataframe\">\n",
       "  <thead>\n",
       "    <tr style=\"text-align: right;\">\n",
       "      <th></th>\n",
       "      <th>q</th>\n",
       "      <th>C</th>\n",
       "    </tr>\n",
       "  </thead>\n",
       "  <tbody>\n",
       "    <tr>\n",
       "      <th>0</th>\n",
       "      <td>0.087879</td>\n",
       "      <td>0.1</td>\n",
       "    </tr>\n",
       "    <tr>\n",
       "      <th>1</th>\n",
       "      <td>0.161428</td>\n",
       "      <td>0.2</td>\n",
       "    </tr>\n",
       "    <tr>\n",
       "      <th>2</th>\n",
       "      <td>0.230390</td>\n",
       "      <td>0.3</td>\n",
       "    </tr>\n",
       "    <tr>\n",
       "      <th>3</th>\n",
       "      <td>0.296533</td>\n",
       "      <td>0.4</td>\n",
       "    </tr>\n",
       "    <tr>\n",
       "      <th>4</th>\n",
       "      <td>0.360655</td>\n",
       "      <td>0.5</td>\n",
       "    </tr>\n",
       "    <tr>\n",
       "      <th>5</th>\n",
       "      <td>0.423212</td>\n",
       "      <td>0.6</td>\n",
       "    </tr>\n",
       "    <tr>\n",
       "      <th>6</th>\n",
       "      <td>0.484496</td>\n",
       "      <td>0.7</td>\n",
       "    </tr>\n",
       "    <tr>\n",
       "      <th>7</th>\n",
       "      <td>0.544712</td>\n",
       "      <td>0.8</td>\n",
       "    </tr>\n",
       "    <tr>\n",
       "      <th>8</th>\n",
       "      <td>0.604008</td>\n",
       "      <td>0.9</td>\n",
       "    </tr>\n",
       "    <tr>\n",
       "      <th>9</th>\n",
       "      <td>0.662500</td>\n",
       "      <td>1.0</td>\n",
       "    </tr>\n",
       "    <tr>\n",
       "      <th>10</th>\n",
       "      <td>0.720277</td>\n",
       "      <td>1.1</td>\n",
       "    </tr>\n",
       "    <tr>\n",
       "      <th>11</th>\n",
       "      <td>0.777413</td>\n",
       "      <td>1.2</td>\n",
       "    </tr>\n",
       "    <tr>\n",
       "      <th>12</th>\n",
       "      <td>0.833966</td>\n",
       "      <td>1.3</td>\n",
       "    </tr>\n",
       "    <tr>\n",
       "      <th>13</th>\n",
       "      <td>0.889988</td>\n",
       "      <td>1.4</td>\n",
       "    </tr>\n",
       "    <tr>\n",
       "      <th>14</th>\n",
       "      <td>0.945520</td>\n",
       "      <td>1.5</td>\n",
       "    </tr>\n",
       "    <tr>\n",
       "      <th>15</th>\n",
       "      <td>1.000600</td>\n",
       "      <td>1.6</td>\n",
       "    </tr>\n",
       "    <tr>\n",
       "      <th>16</th>\n",
       "      <td>1.055258</td>\n",
       "      <td>1.7</td>\n",
       "    </tr>\n",
       "    <tr>\n",
       "      <th>17</th>\n",
       "      <td>1.109523</td>\n",
       "      <td>1.8</td>\n",
       "    </tr>\n",
       "    <tr>\n",
       "      <th>18</th>\n",
       "      <td>1.163420</td>\n",
       "      <td>1.9</td>\n",
       "    </tr>\n",
       "    <tr>\n",
       "      <th>19</th>\n",
       "      <td>1.216969</td>\n",
       "      <td>2.0</td>\n",
       "    </tr>\n",
       "    <tr>\n",
       "      <th>20</th>\n",
       "      <td>1.270191</td>\n",
       "      <td>2.1</td>\n",
       "    </tr>\n",
       "    <tr>\n",
       "      <th>21</th>\n",
       "      <td>1.323102</td>\n",
       "      <td>2.2</td>\n",
       "    </tr>\n",
       "    <tr>\n",
       "      <th>22</th>\n",
       "      <td>1.375719</td>\n",
       "      <td>2.3</td>\n",
       "    </tr>\n",
       "    <tr>\n",
       "      <th>23</th>\n",
       "      <td>1.428056</td>\n",
       "      <td>2.4</td>\n",
       "    </tr>\n",
       "  </tbody>\n",
       "</table>\n",
       "</div>"
      ],
      "text/plain": [
       "           q    C\n",
       "0   0.087879  0.1\n",
       "1   0.161428  0.2\n",
       "2   0.230390  0.3\n",
       "3   0.296533  0.4\n",
       "4   0.360655  0.5\n",
       "5   0.423212  0.6\n",
       "6   0.484496  0.7\n",
       "7   0.544712  0.8\n",
       "8   0.604008  0.9\n",
       "9   0.662500  1.0\n",
       "10  0.720277  1.1\n",
       "11  0.777413  1.2\n",
       "12  0.833966  1.3\n",
       "13  0.889988  1.4\n",
       "14  0.945520  1.5\n",
       "15  1.000600  1.6\n",
       "16  1.055258  1.7\n",
       "17  1.109523  1.8\n",
       "18  1.163420  1.9\n",
       "19  1.216969  2.0\n",
       "20  1.270191  2.1\n",
       "21  1.323102  2.2\n",
       "22  1.375719  2.3\n",
       "23  1.428056  2.4"
      ]
     },
     "execution_count": 13,
     "metadata": {},
     "output_type": "execute_result"
    }
   ],
   "source": [
    "Datos"
   ]
  },
  {
   "cell_type": "code",
   "execution_count": 14,
   "metadata": {
    "colab": {
     "base_uri": "https://localhost:8080/",
     "height": 295
    },
    "id": "8xpaOj4l_wac",
    "outputId": "2de35c5d-0c5f-4da2-f7d6-d90aa1b5de72"
   },
   "outputs": [
    {
     "data": {
      "image/png": "[encoded data removed]",
      "text/plain": [
       "<Figure size 640x480 with 1 Axes>"
      ]
     },
     "metadata": {},
     "output_type": "display_data"
    }
   ],
   "source": [
    "ax = sns.lineplot(x=\"C\", y=\"q\", data=Datos)\n",
    "ax.set(xlabel='C (mg/L)', ylabel='q (mg/g)', title=\"Isoterma de Freundlich\")\n",
    "plt.show()"
   ]
  },
  {
   "cell_type": "code",
   "execution_count": 15,
   "metadata": {
    "colab": {
     "base_uri": "https://localhost:8080/"
    },
    "id": "zvgu1TPqAoE0",
    "outputId": "f2c9e7f9-6861-4e6a-cd4a-4fbaa7744e4e"
   },
   "outputs": [
    {
     "data": {
      "text/plain": [
       "array([84.7755059 , 45.84080356, 31.90237236, 24.6178288 , 20.1022995 ,\n",
       "       17.01275007, 14.75759708, 13.03441729, 11.67202693, 10.56603774,\n",
       "        9.6490625 ,  8.87559549,  8.21376335,  7.64055497,  7.13892844,\n",
       "        6.6959848 ,  6.30177545,  5.94850025,  5.62995448,  5.34113874,\n",
       "        5.07797835,  4.83711791,  4.61576843,  4.41159204])"
      ]
     },
     "execution_count": 15,
     "metadata": {},
     "output_type": "execute_result"
    }
   ],
   "source": [
    "M = (0.5/q)*(15-C)\n",
    "M"
   ]
  },
  {
   "cell_type": "code",
   "execution_count": 16,
   "metadata": {
    "id": "Ngqr_YmcBcUs"
   },
   "outputs": [],
   "source": [
    "Datos[\"Masa Ads\"]= M.transpose()"
   ]
  },
  {
   "cell_type": "code",
   "execution_count": 17,
   "metadata": {
    "colab": {
     "base_uri": "https://localhost:8080/",
     "height": 802
    },
    "id": "gW8acnHLBjOx",
    "outputId": "3ffefb66-1a36-46e7-9c37-e02a1c90daff"
   },
   "outputs": [
    {
     "data": {
      "text/html": [
       "<div>\n",
       "<style scoped>\n",
       "    .dataframe tbody tr th:only-of-type {\n",
       "        vertical-align: middle;\n",
       "    }\n",
       "\n",
       "    .dataframe tbody tr th {\n",
       "        vertical-align: top;\n",
       "    }\n",
       "\n",
       "    .dataframe thead th {\n",
       "        text-align: right;\n",
       "    }\n",
       "</style>\n",
       "<table border=\"1\" class=\"dataframe\">\n",
       "  <thead>\n",
       "    <tr style=\"text-align: right;\">\n",
       "      <th></th>\n",
       "      <th>q</th>\n",
       "      <th>C</th>\n",
       "      <th>Masa Ads</th>\n",
       "    </tr>\n",
       "  </thead>\n",
       "  <tbody>\n",
       "    <tr>\n",
       "      <th>0</th>\n",
       "      <td>0.087879</td>\n",
       "      <td>0.1</td>\n",
       "      <td>84.775506</td>\n",
       "    </tr>\n",
       "    <tr>\n",
       "      <th>1</th>\n",
       "      <td>0.161428</td>\n",
       "      <td>0.2</td>\n",
       "      <td>45.840804</td>\n",
       "    </tr>\n",
       "    <tr>\n",
       "      <th>2</th>\n",
       "      <td>0.230390</td>\n",
       "      <td>0.3</td>\n",
       "      <td>31.902372</td>\n",
       "    </tr>\n",
       "    <tr>\n",
       "      <th>3</th>\n",
       "      <td>0.296533</td>\n",
       "      <td>0.4</td>\n",
       "      <td>24.617829</td>\n",
       "    </tr>\n",
       "    <tr>\n",
       "      <th>4</th>\n",
       "      <td>0.360655</td>\n",
       "      <td>0.5</td>\n",
       "      <td>20.102299</td>\n",
       "    </tr>\n",
       "    <tr>\n",
       "      <th>5</th>\n",
       "      <td>0.423212</td>\n",
       "      <td>0.6</td>\n",
       "      <td>17.012750</td>\n",
       "    </tr>\n",
       "    <tr>\n",
       "      <th>6</th>\n",
       "      <td>0.484496</td>\n",
       "      <td>0.7</td>\n",
       "      <td>14.757597</td>\n",
       "    </tr>\n",
       "    <tr>\n",
       "      <th>7</th>\n",
       "      <td>0.544712</td>\n",
       "      <td>0.8</td>\n",
       "      <td>13.034417</td>\n",
       "    </tr>\n",
       "    <tr>\n",
       "      <th>8</th>\n",
       "      <td>0.604008</td>\n",
       "      <td>0.9</td>\n",
       "      <td>11.672027</td>\n",
       "    </tr>\n",
       "    <tr>\n",
       "      <th>9</th>\n",
       "      <td>0.662500</td>\n",
       "      <td>1.0</td>\n",
       "      <td>10.566038</td>\n",
       "    </tr>\n",
       "    <tr>\n",
       "      <th>10</th>\n",
       "      <td>0.720277</td>\n",
       "      <td>1.1</td>\n",
       "      <td>9.649062</td>\n",
       "    </tr>\n",
       "    <tr>\n",
       "      <th>11</th>\n",
       "      <td>0.777413</td>\n",
       "      <td>1.2</td>\n",
       "      <td>8.875595</td>\n",
       "    </tr>\n",
       "    <tr>\n",
       "      <th>12</th>\n",
       "      <td>0.833966</td>\n",
       "      <td>1.3</td>\n",
       "      <td>8.213763</td>\n",
       "    </tr>\n",
       "    <tr>\n",
       "      <th>13</th>\n",
       "      <td>0.889988</td>\n",
       "      <td>1.4</td>\n",
       "      <td>7.640555</td>\n",
       "    </tr>\n",
       "    <tr>\n",
       "      <th>14</th>\n",
       "      <td>0.945520</td>\n",
       "      <td>1.5</td>\n",
       "      <td>7.138928</td>\n",
       "    </tr>\n",
       "    <tr>\n",
       "      <th>15</th>\n",
       "      <td>1.000600</td>\n",
       "      <td>1.6</td>\n",
       "      <td>6.695985</td>\n",
       "    </tr>\n",
       "    <tr>\n",
       "      <th>16</th>\n",
       "      <td>1.055258</td>\n",
       "      <td>1.7</td>\n",
       "      <td>6.301775</td>\n",
       "    </tr>\n",
       "    <tr>\n",
       "      <th>17</th>\n",
       "      <td>1.109523</td>\n",
       "      <td>1.8</td>\n",
       "      <td>5.948500</td>\n",
       "    </tr>\n",
       "    <tr>\n",
       "      <th>18</th>\n",
       "      <td>1.163420</td>\n",
       "      <td>1.9</td>\n",
       "      <td>5.629954</td>\n",
       "    </tr>\n",
       "    <tr>\n",
       "      <th>19</th>\n",
       "      <td>1.216969</td>\n",
       "      <td>2.0</td>\n",
       "      <td>5.341139</td>\n",
       "    </tr>\n",
       "    <tr>\n",
       "      <th>20</th>\n",
       "      <td>1.270191</td>\n",
       "      <td>2.1</td>\n",
       "      <td>5.077978</td>\n",
       "    </tr>\n",
       "    <tr>\n",
       "      <th>21</th>\n",
       "      <td>1.323102</td>\n",
       "      <td>2.2</td>\n",
       "      <td>4.837118</td>\n",
       "    </tr>\n",
       "    <tr>\n",
       "      <th>22</th>\n",
       "      <td>1.375719</td>\n",
       "      <td>2.3</td>\n",
       "      <td>4.615768</td>\n",
       "    </tr>\n",
       "    <tr>\n",
       "      <th>23</th>\n",
       "      <td>1.428056</td>\n",
       "      <td>2.4</td>\n",
       "      <td>4.411592</td>\n",
       "    </tr>\n",
       "  </tbody>\n",
       "</table>\n",
       "</div>"
      ],
      "text/plain": [
       "           q    C   Masa Ads\n",
       "0   0.087879  0.1  84.775506\n",
       "1   0.161428  0.2  45.840804\n",
       "2   0.230390  0.3  31.902372\n",
       "3   0.296533  0.4  24.617829\n",
       "4   0.360655  0.5  20.102299\n",
       "5   0.423212  0.6  17.012750\n",
       "6   0.484496  0.7  14.757597\n",
       "7   0.544712  0.8  13.034417\n",
       "8   0.604008  0.9  11.672027\n",
       "9   0.662500  1.0  10.566038\n",
       "10  0.720277  1.1   9.649062\n",
       "11  0.777413  1.2   8.875595\n",
       "12  0.833966  1.3   8.213763\n",
       "13  0.889988  1.4   7.640555\n",
       "14  0.945520  1.5   7.138928\n",
       "15  1.000600  1.6   6.695985\n",
       "16  1.055258  1.7   6.301775\n",
       "17  1.109523  1.8   5.948500\n",
       "18  1.163420  1.9   5.629954\n",
       "19  1.216969  2.0   5.341139\n",
       "20  1.270191  2.1   5.077978\n",
       "21  1.323102  2.2   4.837118\n",
       "22  1.375719  2.3   4.615768\n",
       "23  1.428056  2.4   4.411592"
      ]
     },
     "execution_count": 17,
     "metadata": {},
     "output_type": "execute_result"
    }
   ],
   "source": [
    "Datos"
   ]
  },
  {
   "cell_type": "code",
   "execution_count": 18,
   "metadata": {
    "colab": {
     "base_uri": "https://localhost:8080/"
    },
    "id": "VDILrfOiCHQr",
    "outputId": "7662d6bb-537c-4b08-9396-79f956fe07ec"
   },
   "outputs": [
    {
     "data": {
      "text/plain": [
       "array([99.33333333, 98.66666667, 98.        , 97.33333333, 96.66666667,\n",
       "       96.        , 95.33333333, 94.66666667, 94.        , 93.33333333,\n",
       "       92.66666667, 92.        , 91.33333333, 90.66666667, 90.        ,\n",
       "       89.33333333, 88.66666667, 88.        , 87.33333333, 86.66666667,\n",
       "       86.        , 85.33333333, 84.66666667, 84.        ])"
      ]
     },
     "execution_count": 18,
     "metadata": {},
     "output_type": "execute_result"
    }
   ],
   "source": [
    "Eficiencia = (1-(C/15))*100\n",
    "Eficiencia"
   ]
  },
  {
   "cell_type": "code",
   "execution_count": 19,
   "metadata": {
    "colab": {
     "base_uri": "https://localhost:8080/",
     "height": 802
    },
    "id": "moulFtNbCUI2",
    "outputId": "906b571f-746f-47cd-a833-5d7c0c2c9d37"
   },
   "outputs": [
    {
     "data": {
      "text/html": [
       "<div>\n",
       "<style scoped>\n",
       "    .dataframe tbody tr th:only-of-type {\n",
       "        vertical-align: middle;\n",
       "    }\n",
       "\n",
       "    .dataframe tbody tr th {\n",
       "        vertical-align: top;\n",
       "    }\n",
       "\n",
       "    .dataframe thead th {\n",
       "        text-align: right;\n",
       "    }\n",
       "</style>\n",
       "<table border=\"1\" class=\"dataframe\">\n",
       "  <thead>\n",
       "    <tr style=\"text-align: right;\">\n",
       "      <th></th>\n",
       "      <th>q</th>\n",
       "      <th>C</th>\n",
       "      <th>Masa Ads</th>\n",
       "      <th>Eficiencia</th>\n",
       "    </tr>\n",
       "  </thead>\n",
       "  <tbody>\n",
       "    <tr>\n",
       "      <th>0</th>\n",
       "      <td>0.087879</td>\n",
       "      <td>0.1</td>\n",
       "      <td>84.775506</td>\n",
       "      <td>99.333333</td>\n",
       "    </tr>\n",
       "    <tr>\n",
       "      <th>1</th>\n",
       "      <td>0.161428</td>\n",
       "      <td>0.2</td>\n",
       "      <td>45.840804</td>\n",
       "      <td>98.666667</td>\n",
       "    </tr>\n",
       "    <tr>\n",
       "      <th>2</th>\n",
       "      <td>0.230390</td>\n",
       "      <td>0.3</td>\n",
       "      <td>31.902372</td>\n",
       "      <td>98.000000</td>\n",
       "    </tr>\n",
       "    <tr>\n",
       "      <th>3</th>\n",
       "      <td>0.296533</td>\n",
       "      <td>0.4</td>\n",
       "      <td>24.617829</td>\n",
       "      <td>97.333333</td>\n",
       "    </tr>\n",
       "    <tr>\n",
       "      <th>4</th>\n",
       "      <td>0.360655</td>\n",
       "      <td>0.5</td>\n",
       "      <td>20.102299</td>\n",
       "      <td>96.666667</td>\n",
       "    </tr>\n",
       "    <tr>\n",
       "      <th>5</th>\n",
       "      <td>0.423212</td>\n",
       "      <td>0.6</td>\n",
       "      <td>17.012750</td>\n",
       "      <td>96.000000</td>\n",
       "    </tr>\n",
       "    <tr>\n",
       "      <th>6</th>\n",
       "      <td>0.484496</td>\n",
       "      <td>0.7</td>\n",
       "      <td>14.757597</td>\n",
       "      <td>95.333333</td>\n",
       "    </tr>\n",
       "    <tr>\n",
       "      <th>7</th>\n",
       "      <td>0.544712</td>\n",
       "      <td>0.8</td>\n",
       "      <td>13.034417</td>\n",
       "      <td>94.666667</td>\n",
       "    </tr>\n",
       "    <tr>\n",
       "      <th>8</th>\n",
       "      <td>0.604008</td>\n",
       "      <td>0.9</td>\n",
       "      <td>11.672027</td>\n",
       "      <td>94.000000</td>\n",
       "    </tr>\n",
       "    <tr>\n",
       "      <th>9</th>\n",
       "      <td>0.662500</td>\n",
       "      <td>1.0</td>\n",
       "      <td>10.566038</td>\n",
       "      <td>93.333333</td>\n",
       "    </tr>\n",
       "    <tr>\n",
       "      <th>10</th>\n",
       "      <td>0.720277</td>\n",
       "      <td>1.1</td>\n",
       "      <td>9.649062</td>\n",
       "      <td>92.666667</td>\n",
       "    </tr>\n",
       "    <tr>\n",
       "      <th>11</th>\n",
       "      <td>0.777413</td>\n",
       "      <td>1.2</td>\n",
       "      <td>8.875595</td>\n",
       "      <td>92.000000</td>\n",
       "    </tr>\n",
       "    <tr>\n",
       "      <th>12</th>\n",
       "      <td>0.833966</td>\n",
       "      <td>1.3</td>\n",
       "      <td>8.213763</td>\n",
       "      <td>91.333333</td>\n",
       "    </tr>\n",
       "    <tr>\n",
       "      <th>13</th>\n",
       "      <td>0.889988</td>\n",
       "      <td>1.4</td>\n",
       "      <td>7.640555</td>\n",
       "      <td>90.666667</td>\n",
       "    </tr>\n",
       "    <tr>\n",
       "      <th>14</th>\n",
       "      <td>0.945520</td>\n",
       "      <td>1.5</td>\n",
       "      <td>7.138928</td>\n",
       "      <td>90.000000</td>\n",
       "    </tr>\n",
       "    <tr>\n",
       "      <th>15</th>\n",
       "      <td>1.000600</td>\n",
       "      <td>1.6</td>\n",
       "      <td>6.695985</td>\n",
       "      <td>89.333333</td>\n",
       "    </tr>\n",
       "    <tr>\n",
       "      <th>16</th>\n",
       "      <td>1.055258</td>\n",
       "      <td>1.7</td>\n",
       "      <td>6.301775</td>\n",
       "      <td>88.666667</td>\n",
       "    </tr>\n",
       "    <tr>\n",
       "      <th>17</th>\n",
       "      <td>1.109523</td>\n",
       "      <td>1.8</td>\n",
       "      <td>5.948500</td>\n",
       "      <td>88.000000</td>\n",
       "    </tr>\n",
       "    <tr>\n",
       "      <th>18</th>\n",
       "      <td>1.163420</td>\n",
       "      <td>1.9</td>\n",
       "      <td>5.629954</td>\n",
       "      <td>87.333333</td>\n",
       "    </tr>\n",
       "    <tr>\n",
       "      <th>19</th>\n",
       "      <td>1.216969</td>\n",
       "      <td>2.0</td>\n",
       "      <td>5.341139</td>\n",
       "      <td>86.666667</td>\n",
       "    </tr>\n",
       "    <tr>\n",
       "      <th>20</th>\n",
       "      <td>1.270191</td>\n",
       "      <td>2.1</td>\n",
       "      <td>5.077978</td>\n",
       "      <td>86.000000</td>\n",
       "    </tr>\n",
       "    <tr>\n",
       "      <th>21</th>\n",
       "      <td>1.323102</td>\n",
       "      <td>2.2</td>\n",
       "      <td>4.837118</td>\n",
       "      <td>85.333333</td>\n",
       "    </tr>\n",
       "    <tr>\n",
       "      <th>22</th>\n",
       "      <td>1.375719</td>\n",
       "      <td>2.3</td>\n",
       "      <td>4.615768</td>\n",
       "      <td>84.666667</td>\n",
       "    </tr>\n",
       "    <tr>\n",
       "      <th>23</th>\n",
       "      <td>1.428056</td>\n",
       "      <td>2.4</td>\n",
       "      <td>4.411592</td>\n",
       "      <td>84.000000</td>\n",
       "    </tr>\n",
       "  </tbody>\n",
       "</table>\n",
       "</div>"
      ],
      "text/plain": [
       "           q    C   Masa Ads  Eficiencia\n",
       "0   0.087879  0.1  84.775506   99.333333\n",
       "1   0.161428  0.2  45.840804   98.666667\n",
       "2   0.230390  0.3  31.902372   98.000000\n",
       "3   0.296533  0.4  24.617829   97.333333\n",
       "4   0.360655  0.5  20.102299   96.666667\n",
       "5   0.423212  0.6  17.012750   96.000000\n",
       "6   0.484496  0.7  14.757597   95.333333\n",
       "7   0.544712  0.8  13.034417   94.666667\n",
       "8   0.604008  0.9  11.672027   94.000000\n",
       "9   0.662500  1.0  10.566038   93.333333\n",
       "10  0.720277  1.1   9.649062   92.666667\n",
       "11  0.777413  1.2   8.875595   92.000000\n",
       "12  0.833966  1.3   8.213763   91.333333\n",
       "13  0.889988  1.4   7.640555   90.666667\n",
       "14  0.945520  1.5   7.138928   90.000000\n",
       "15  1.000600  1.6   6.695985   89.333333\n",
       "16  1.055258  1.7   6.301775   88.666667\n",
       "17  1.109523  1.8   5.948500   88.000000\n",
       "18  1.163420  1.9   5.629954   87.333333\n",
       "19  1.216969  2.0   5.341139   86.666667\n",
       "20  1.270191  2.1   5.077978   86.000000\n",
       "21  1.323102  2.2   4.837118   85.333333\n",
       "22  1.375719  2.3   4.615768   84.666667\n",
       "23  1.428056  2.4   4.411592   84.000000"
      ]
     },
     "execution_count": 19,
     "metadata": {},
     "output_type": "execute_result"
    }
   ],
   "source": [
    "Datos[\"Eficiencia\"]= Eficiencia.transpose()\n",
    "Datos"
   ]
  },
  {
   "cell_type": "code",
   "execution_count": 20,
   "metadata": {
    "colab": {
     "base_uri": "https://localhost:8080/",
     "height": 282
    },
    "id": "I-4Sak0wCgOo",
    "outputId": "4032e80b-c16e-4152-dbf2-854da0eef604"
   },
   "outputs": [
    {
     "data": {
      "image/png": "[encoded data removed]",
      "text/plain": [
       "<Figure size 640x480 with 1 Axes>"
      ]
     },
     "metadata": {},
     "output_type": "display_data"
    }
   ],
   "source": [
    "graph = sns.lineplot(x=\"Masa Ads\", y=\"Eficiencia\",data=Datos)\n",
    "graph.axhline(98.5, color=\"purple\")\n",
    "graph.axvline(40, color=\"#F39C12\")\n",
    "plt.show()"
   ]
  },
  {
   "cell_type": "markdown",
   "metadata": {
    "id": "AgO0aKG8D5vE"
   },
   "source": [
    "# **EJERCICIO 1:**<br>\n",
    "Una concentracion de 25 mg/L de azul de metileno fueron tratadas con carbon activado. Para ello se emplearon 7 erlenmeyers de 100 mL cada cada uno, con el proposito de conocer la cantidad optima de adsorbente que se requeriria para remover este colorante. Estime los parametros de la Isoterma. Los resultados son los siguientes:"
   ]
  },
  {
   "cell_type": "code",
   "execution_count": 21,
   "metadata": {
    "colab": {
     "base_uri": "https://localhost:8080/",
     "height": 269
    },
    "id": "1jf3JNxFGomL",
    "outputId": "93105f23-ecbc-4772-8020-04924f7c9dda"
   },
   "outputs": [
    {
     "data": {
      "text/html": [
       "<div>\n",
       "<style scoped>\n",
       "    .dataframe tbody tr th:only-of-type {\n",
       "        vertical-align: middle;\n",
       "    }\n",
       "\n",
       "    .dataframe tbody tr th {\n",
       "        vertical-align: top;\n",
       "    }\n",
       "\n",
       "    .dataframe thead th {\n",
       "        text-align: right;\n",
       "    }\n",
       "</style>\n",
       "<table border=\"1\" class=\"dataframe\">\n",
       "  <thead>\n",
       "    <tr style=\"text-align: right;\">\n",
       "      <th></th>\n",
       "      <th>Masa</th>\n",
       "      <th>C</th>\n",
       "    </tr>\n",
       "  </thead>\n",
       "  <tbody>\n",
       "    <tr>\n",
       "      <th>0</th>\n",
       "      <td>1.0</td>\n",
       "      <td>20</td>\n",
       "    </tr>\n",
       "    <tr>\n",
       "      <th>1</th>\n",
       "      <td>5.0</td>\n",
       "      <td>18</td>\n",
       "    </tr>\n",
       "    <tr>\n",
       "      <th>2</th>\n",
       "      <td>10.0</td>\n",
       "      <td>15</td>\n",
       "    </tr>\n",
       "    <tr>\n",
       "      <th>3</th>\n",
       "      <td>12.5</td>\n",
       "      <td>13</td>\n",
       "    </tr>\n",
       "    <tr>\n",
       "      <th>4</th>\n",
       "      <td>25.0</td>\n",
       "      <td>9</td>\n",
       "    </tr>\n",
       "    <tr>\n",
       "      <th>5</th>\n",
       "      <td>30.0</td>\n",
       "      <td>6</td>\n",
       "    </tr>\n",
       "    <tr>\n",
       "      <th>6</th>\n",
       "      <td>100.0</td>\n",
       "      <td>3</td>\n",
       "    </tr>\n",
       "  </tbody>\n",
       "</table>\n",
       "</div>"
      ],
      "text/plain": [
       "    Masa   C\n",
       "0    1.0  20\n",
       "1    5.0  18\n",
       "2   10.0  15\n",
       "3   12.5  13\n",
       "4   25.0   9\n",
       "5   30.0   6\n",
       "6  100.0   3"
      ]
     },
     "execution_count": 21,
     "metadata": {},
     "output_type": "execute_result"
    }
   ],
   "source": [
    "DataSet2 =  {\"Masa\":[1,5,10,12.5,25,30,100], \"C\":[20,18,15,13,9,6,3]}\n",
    "DataSet2 = pd.DataFrame(DataSet2)\n",
    "DataSet2"
   ]
  },
  {
   "cell_type": "markdown",
   "metadata": {
    "id": "CPk_dD_9J8or"
   },
   "source": []
  },
  {
   "cell_type": "markdown",
   "metadata": {
    "id": "QMHQiYp8J9N7"
   },
   "source": [
    "# **EJERCICIO 2:**<br>\n",
    "Los parametros de Freundlich de los siguientes adsorbentes son: <br>\n",
    "\n",
    "\n",
    "1.   Carcara de coco: K = 1.40, 1/n = 1.06\n",
    "2.   Cascara de albaricoque: K = 18.85, 1/n = 1.74\n",
    "3.   Quitina: K = 50.25 , 1/n = 2.04\n",
    "4.   Carbon: K = 8.35, 1/n = 1.50\n",
    "5.   Carcara de nuez: K = 21.08, 1/n = 1.53 \n",
    "\n",
    "Estime la eficiencia de remocion de estos adsorbentes para 15 mg/L de Lignina. Asuma un reactor tipo Batch de 500 mL. Estime las masas de los adsorbentes empleadas y defina cual seria el mejor adsorbente para este tipo de tratamiento.\n",
    "\n"
   ]
  },
  {
   "cell_type": "code",
   "execution_count": null,
   "metadata": {
    "id": "2rYwenh_JRfI"
   },
   "outputs": [],
   "source": []
  }
 ],
 "metadata": {
  "colab": {
   "authorship_tag": "ABX9TyMp7G0krlY44Utjtd8F1Hy2",
   "include_colab_link": true,
   "provenance": []
  },
  "kernelspec": {
   "display_name": "Python 3 (ipykernel)",
   "language": "python",
   "name": "python3"
  },
  "language_info": {
   "codemirror_mode": {
    "name": "ipython",
    "version": 3
   },
   "file_extension": ".py",
   "mimetype": "text/x-python",
   "name": "python",
   "nbconvert_exporter": "python",
   "pygments_lexer": "ipython3",
   "version": "3.9.12"
  }
 },
 "nbformat": 4,
 "nbformat_minor": 1
}
